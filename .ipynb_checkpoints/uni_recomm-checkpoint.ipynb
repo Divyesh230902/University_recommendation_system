{
 "cells": [
  {
   "cell_type": "code",
   "execution_count": 10,
   "metadata": {},
   "outputs": [],
   "source": [
    "import pandas as pd\n",
    "import numpy as np\n",
    "import matplotlib.pyplot as plt"
   ]
  },
  {
   "cell_type": "code",
   "execution_count": 19,
   "metadata": {},
   "outputs": [
    {
     "data": {
      "text/html": [
       "<div>\n",
       "<style scoped>\n",
       "    .dataframe tbody tr th:only-of-type {\n",
       "        vertical-align: middle;\n",
       "    }\n",
       "\n",
       "    .dataframe tbody tr th {\n",
       "        vertical-align: top;\n",
       "    }\n",
       "\n",
       "    .dataframe thead th {\n",
       "        text-align: right;\n",
       "    }\n",
       "</style>\n",
       "<table border=\"1\" class=\"dataframe\">\n",
       "  <thead>\n",
       "    <tr style=\"text-align: right;\">\n",
       "      <th></th>\n",
       "      <th>Uni_code</th>\n",
       "      <th>Uni_name</th>\n",
       "      <th>Branch</th>\n",
       "      <th>has_placement_cell</th>\n",
       "      <th>has_hostel</th>\n",
       "      <th>has_IEEE</th>\n",
       "      <th>has_sports_club</th>\n",
       "      <th>has_NCC</th>\n",
       "      <th>last_year_cutoff</th>\n",
       "      <th>Score</th>\n",
       "      <th>selection</th>\n",
       "    </tr>\n",
       "  </thead>\n",
       "  <tbody>\n",
       "    <tr>\n",
       "      <th>0</th>\n",
       "      <td>Uniid_1</td>\n",
       "      <td>University_1</td>\n",
       "      <td>Civil engineering</td>\n",
       "      <td>0</td>\n",
       "      <td>0</td>\n",
       "      <td>0</td>\n",
       "      <td>0</td>\n",
       "      <td>0</td>\n",
       "      <td>812</td>\n",
       "      <td>809</td>\n",
       "      <td>1</td>\n",
       "    </tr>\n",
       "    <tr>\n",
       "      <th>1</th>\n",
       "      <td>Uniid_2</td>\n",
       "      <td>University_2</td>\n",
       "      <td>BDes in Design</td>\n",
       "      <td>0</td>\n",
       "      <td>1</td>\n",
       "      <td>0</td>\n",
       "      <td>0</td>\n",
       "      <td>1</td>\n",
       "      <td>867</td>\n",
       "      <td>630</td>\n",
       "      <td>1</td>\n",
       "    </tr>\n",
       "    <tr>\n",
       "      <th>2</th>\n",
       "      <td>Uniid_3</td>\n",
       "      <td>University_3</td>\n",
       "      <td>BBA/BMS</td>\n",
       "      <td>1</td>\n",
       "      <td>1</td>\n",
       "      <td>1</td>\n",
       "      <td>1</td>\n",
       "      <td>0</td>\n",
       "      <td>889</td>\n",
       "      <td>808</td>\n",
       "      <td>1</td>\n",
       "    </tr>\n",
       "    <tr>\n",
       "      <th>3</th>\n",
       "      <td>Uniid_4</td>\n",
       "      <td>University_4</td>\n",
       "      <td>communication engineering</td>\n",
       "      <td>0</td>\n",
       "      <td>1</td>\n",
       "      <td>1</td>\n",
       "      <td>1</td>\n",
       "      <td>0</td>\n",
       "      <td>746</td>\n",
       "      <td>546</td>\n",
       "      <td>0</td>\n",
       "    </tr>\n",
       "    <tr>\n",
       "      <th>4</th>\n",
       "      <td>Uniid_5</td>\n",
       "      <td>University_5</td>\n",
       "      <td>Electrical engineering</td>\n",
       "      <td>0</td>\n",
       "      <td>1</td>\n",
       "      <td>1</td>\n",
       "      <td>0</td>\n",
       "      <td>1</td>\n",
       "      <td>980</td>\n",
       "      <td>810</td>\n",
       "      <td>1</td>\n",
       "    </tr>\n",
       "    <tr>\n",
       "      <th>...</th>\n",
       "      <td>...</td>\n",
       "      <td>...</td>\n",
       "      <td>...</td>\n",
       "      <td>...</td>\n",
       "      <td>...</td>\n",
       "      <td>...</td>\n",
       "      <td>...</td>\n",
       "      <td>...</td>\n",
       "      <td>...</td>\n",
       "      <td>...</td>\n",
       "      <td>...</td>\n",
       "    </tr>\n",
       "    <tr>\n",
       "      <th>345</th>\n",
       "      <td>Uniid_346</td>\n",
       "      <td>University_346</td>\n",
       "      <td>Computer science engineering</td>\n",
       "      <td>0</td>\n",
       "      <td>1</td>\n",
       "      <td>0</td>\n",
       "      <td>0</td>\n",
       "      <td>0</td>\n",
       "      <td>849</td>\n",
       "      <td>948</td>\n",
       "      <td>1</td>\n",
       "    </tr>\n",
       "    <tr>\n",
       "      <th>346</th>\n",
       "      <td>Uniid_347</td>\n",
       "      <td>University_347</td>\n",
       "      <td>BSc in Hospitality &amp; Travel</td>\n",
       "      <td>1</td>\n",
       "      <td>0</td>\n",
       "      <td>0</td>\n",
       "      <td>1</td>\n",
       "      <td>0</td>\n",
       "      <td>739</td>\n",
       "      <td>962</td>\n",
       "      <td>1</td>\n",
       "    </tr>\n",
       "    <tr>\n",
       "      <th>347</th>\n",
       "      <td>Uniid_348</td>\n",
       "      <td>University_348</td>\n",
       "      <td>Bachelor of Fine Arts (BFA)</td>\n",
       "      <td>1</td>\n",
       "      <td>1</td>\n",
       "      <td>0</td>\n",
       "      <td>0</td>\n",
       "      <td>0</td>\n",
       "      <td>699</td>\n",
       "      <td>890</td>\n",
       "      <td>1</td>\n",
       "    </tr>\n",
       "    <tr>\n",
       "      <th>348</th>\n",
       "      <td>Uniid_349</td>\n",
       "      <td>University_349</td>\n",
       "      <td>BA in Humanities &amp; Social Sciences</td>\n",
       "      <td>0</td>\n",
       "      <td>1</td>\n",
       "      <td>1</td>\n",
       "      <td>1</td>\n",
       "      <td>0</td>\n",
       "      <td>738</td>\n",
       "      <td>996</td>\n",
       "      <td>1</td>\n",
       "    </tr>\n",
       "    <tr>\n",
       "      <th>349</th>\n",
       "      <td>Uniid_350</td>\n",
       "      <td>University_350</td>\n",
       "      <td>BBA/BMS</td>\n",
       "      <td>0</td>\n",
       "      <td>1</td>\n",
       "      <td>0</td>\n",
       "      <td>0</td>\n",
       "      <td>0</td>\n",
       "      <td>976</td>\n",
       "      <td>924</td>\n",
       "      <td>1</td>\n",
       "    </tr>\n",
       "  </tbody>\n",
       "</table>\n",
       "<p>350 rows × 11 columns</p>\n",
       "</div>"
      ],
      "text/plain": [
       "      Uni_code        Uni_name                              Branch  \\\n",
       "0      Uniid_1    University_1                   Civil engineering   \n",
       "1      Uniid_2    University_2                      BDes in Design   \n",
       "2      Uniid_3    University_3                             BBA/BMS   \n",
       "3      Uniid_4    University_4           communication engineering   \n",
       "4      Uniid_5    University_5              Electrical engineering   \n",
       "..         ...             ...                                 ...   \n",
       "345  Uniid_346  University_346        Computer science engineering   \n",
       "346  Uniid_347  University_347         BSc in Hospitality & Travel   \n",
       "347  Uniid_348  University_348         Bachelor of Fine Arts (BFA)   \n",
       "348  Uniid_349  University_349  BA in Humanities & Social Sciences   \n",
       "349  Uniid_350  University_350                             BBA/BMS   \n",
       "\n",
       "     has_placement_cell  has_hostel  has_IEEE  has_sports_club  has_NCC  \\\n",
       "0                     0           0         0                0        0   \n",
       "1                     0           1         0                0        1   \n",
       "2                     1           1         1                1        0   \n",
       "3                     0           1         1                1        0   \n",
       "4                     0           1         1                0        1   \n",
       "..                  ...         ...       ...              ...      ...   \n",
       "345                   0           1         0                0        0   \n",
       "346                   1           0         0                1        0   \n",
       "347                   1           1         0                0        0   \n",
       "348                   0           1         1                1        0   \n",
       "349                   0           1         0                0        0   \n",
       "\n",
       "     last_year_cutoff  Score  selection  \n",
       "0                 812    809          1  \n",
       "1                 867    630          1  \n",
       "2                 889    808          1  \n",
       "3                 746    546          0  \n",
       "4                 980    810          1  \n",
       "..                ...    ...        ...  \n",
       "345               849    948          1  \n",
       "346               739    962          1  \n",
       "347               699    890          1  \n",
       "348               738    996          1  \n",
       "349               976    924          1  \n",
       "\n",
       "[350 rows x 11 columns]"
      ]
     },
     "execution_count": 19,
     "metadata": {},
     "output_type": "execute_result"
    }
   ],
   "source": [
    "def data(row):\n",
    "    uni_recomm = {\n",
    "        \"Uni_code\": [f\"Uniid_{i+1}\" for i in range(row)],\n",
    "        \"Uni_name\": [f\"University_{i+1}\" for i in range(row)],\n",
    "        \"Branch\": [np.random.choice([\"Computer science engineering\", \"Mechanical engineering\", \"Electronic\", \"communication engineering\", \"Electrical engineering\", \"Civil engineering\", \"BCom\", \"BCA (IT and Software)\", \"BBA LLB\", \"Chartered Accountancy (CA)\", \"BBA/BMS\", \"Company Secretary (CS)\", \"BA in Humanities & Social Sciences\", \"BA in Arts (Fine/ Visual/ Performing)\", \"Bachelor of Fine Arts (BFA)\", \"BDes in Animation\", \"BA LLB\", \"BDes in Design\", \"BSc in Hospitality & Travel\", \"BSc in Design\"]) for i in range(row)],\n",
    "        \"has_placement_cell\": [np.random.choice([1,0]) for i in range(row)],\n",
    "        \"has_hostel\": [np.random.choice([1,0]) for i in range(row)],\n",
    "        \"has_IEEE\": [np.random.choice([1,0]) for i in range(row)],\n",
    "        \"has_sports_club\": [np.random.choice([1,0]) for i in range(row)],\n",
    "        \"has_NCC\": [np.random.choice([1,0]) for i in range(row)],\n",
    "        \"last_year_cutoff\": [np.random.randint(600, 1000) for i in range(row)],\n",
    "        \"Score\": [np.random.randint(500, 1000) for i in range(row)],\n",
    "        \"selection\": []\n",
    "    }\n",
    "    for i in range(row):\n",
    "        if uni_recomm[\"Score\"][i] >= 600:\n",
    "            uni_recomm[\"selection\"].append(1)\n",
    "        else:\n",
    "            uni_recomm[\"selection\"].append(0)\n",
    "    uni_recomm_df = pd.DataFrame(uni_recomm)\n",
    "    # uni_recomm_df.to_csv(\"uni_recomm.csv\", index=False)\n",
    "    return uni_recomm_df\n",
    "\n",
    "uni_df = data(350)\n",
    "uni_df\n"
   ]
  },
  {
   "cell_type": "code",
   "execution_count": 12,
   "metadata": {},
   "outputs": [
    {
     "data": {
      "text/plain": [
       "Index(['Uni_code', 'Uni_name', 'Branch', 'has_placement_cell', 'has_hostel',\n",
       "       'has_IEEE', 'has_sports_club', 'has_NCC', 'last_year_cutoff', 'Score',\n",
       "       'selection'],\n",
       "      dtype='object')"
      ]
     },
     "execution_count": 12,
     "metadata": {},
     "output_type": "execute_result"
    }
   ],
   "source": [
    "uni_df.columns"
   ]
  },
  {
   "cell_type": "code",
   "execution_count": 13,
   "metadata": {},
   "outputs": [
    {
     "name": "stdout",
     "output_type": "stream",
     "text": [
      "<class 'pandas.core.frame.DataFrame'>\n",
      "RangeIndex: 250 entries, 0 to 249\n",
      "Data columns (total 11 columns):\n",
      " #   Column              Non-Null Count  Dtype \n",
      "---  ------              --------------  ----- \n",
      " 0   Uni_code            250 non-null    object\n",
      " 1   Uni_name            250 non-null    object\n",
      " 2   Branch              250 non-null    object\n",
      " 3   has_placement_cell  250 non-null    int64 \n",
      " 4   has_hostel          250 non-null    int64 \n",
      " 5   has_IEEE            250 non-null    int64 \n",
      " 6   has_sports_club     250 non-null    int64 \n",
      " 7   has_NCC             250 non-null    int64 \n",
      " 8   last_year_cutoff    250 non-null    int64 \n",
      " 9   Score               250 non-null    int64 \n",
      " 10  selection           250 non-null    int64 \n",
      "dtypes: int64(8), object(3)\n",
      "memory usage: 21.6+ KB\n"
     ]
    }
   ],
   "source": [
    "uni_df.info()"
   ]
  },
  {
   "cell_type": "markdown",
   "metadata": {},
   "source": [
    "the average of university's last year cutoff"
   ]
  },
  {
   "cell_type": "code",
   "execution_count": 14,
   "metadata": {},
   "outputs": [
    {
     "data": {
      "text/plain": [
       "802.34"
      ]
     },
     "execution_count": 14,
     "metadata": {},
     "output_type": "execute_result"
    }
   ],
   "source": [
    "cutoff = uni_df.last_year_cutoff.mean()\n",
    "cutof"
   ]
  },
  {
   "cell_type": "code",
   "execution_count": 15,
   "metadata": {},
   "outputs": [
    {
     "data": {
      "text/plain": [
       "741.308"
      ]
     },
     "execution_count": 15,
     "metadata": {},
     "output_type": "execute_result"
    }
   ],
   "source": [
    "score=uni_df.Score.mean()\n",
    "score"
   ]
  },
  {
   "cell_type": "code",
   "execution_count": 16,
   "metadata": {},
   "outputs": [
    {
     "name": "stdout",
     "output_type": "stream",
     "text": [
      "92.39324974449734 %\n"
     ]
    }
   ],
   "source": [
    "scoretocutoffratio = (score/cutoff)*100\n",
    "print(scoretocutoffratio,\"%\")"
   ]
  },
  {
   "cell_type": "code",
   "execution_count": 17,
   "metadata": {},
   "outputs": [
    {
     "data": {
      "text/plain": [
       "BDes in Design                           17\n",
       "BSc in Design                            17\n",
       "BA LLB                                   16\n",
       "Electronic                               15\n",
       "BCom                                     14\n",
       "Company Secretary (CS)                   14\n",
       "Computer science engineering             14\n",
       "Civil engineering                        13\n",
       "BA in Arts (Fine/ Visual/ Performing)    13\n",
       "Mechanical engineering                   12\n",
       "BA in Humanities & Social Sciences       12\n",
       "communication engineering                12\n",
       "Bachelor of Fine Arts (BFA)              11\n",
       "BBA LLB                                  11\n",
       "Chartered Accountancy (CA)               11\n",
       "BCA (IT and Software)                    11\n",
       "BSc in Hospitality & Travel              10\n",
       "Electrical engineering                   10\n",
       "BBA/BMS                                   9\n",
       "BDes in Animation                         8\n",
       "Name: Branch, dtype: int64"
      ]
     },
     "execution_count": 17,
     "metadata": {},
     "output_type": "execute_result"
    }
   ],
   "source": [
    "uni_df.Branch.value_counts()"
   ]
  },
  {
   "cell_type": "code",
   "execution_count": 18,
   "metadata": {},
   "outputs": [
    {
     "data": {
      "text/plain": [
       "1    6\n",
       "0    2\n",
       "Name: selection, dtype: int64"
      ]
     },
     "execution_count": 18,
     "metadata": {},
     "output_type": "execute_result"
    }
   ],
   "source": [
    "uni_df[(uni_df[\"Branch\"] == \"BDes in Animation\")].selection.value_counts()"
   ]
  },
  {
   "cell_type": "code",
   "execution_count": null,
   "metadata": {},
   "outputs": [],
   "source": []
  }
 ],
 "metadata": {
  "interpreter": {
   "hash": "d9c5ec1b1844333f8b1ac69aa85f51898627d5791d69cd6f1d5c0f4347c6a503"
  },
  "kernelspec": {
   "display_name": "Python 3 (ipykernel)",
   "language": "python",
   "name": "python3"
  },
  "language_info": {
   "codemirror_mode": {
    "name": "ipython",
    "version": 3
   },
   "file_extension": ".py",
   "mimetype": "text/x-python",
   "name": "python",
   "nbconvert_exporter": "python",
   "pygments_lexer": "ipython3",
   "version": "3.9.12"
  }
 },
 "nbformat": 4,
 "nbformat_minor": 2
}
