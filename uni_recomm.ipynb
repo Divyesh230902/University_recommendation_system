{
 "cells": [
  {
   "cell_type": "markdown",
   "metadata": {},
   "source": [
    "# University Recommendation System\n",
    "<p style=\"font-size: small\">By Divyesh Patel</p>"
   ]
  },
  {
   "cell_type": "markdown",
   "metadata": {},
   "source": [
    "### Importing Basic Data Analysis Libraries"
   ]
  },
  {
   "cell_type": "code",
   "execution_count": 14,
   "metadata": {},
   "outputs": [],
   "source": [
    "import pandas as pd\n",
    "import numpy as np\n",
    "import matplotlib.pyplot as plt\n",
    "import seaborn as sns"
   ]
  },
  {
   "cell_type": "markdown",
   "metadata": {},
   "source": [
    "## Data Frame Made by Pandas Itself\n",
    "# <p style=\"text-align:center; font-size: medium;\">Attribute Understanding</p>\n",
    "# <pre style=\"font-size:small\">\n",
    "    Uni_code = University code which is unique for all universities it is used to identify the university.\n",
    "    Uni_name = University name which is used to identify the university.\n",
    "    Branch = Branch of the university which is used to identify that which department is there in that University.\n",
    "    has_placement_cell = This is used to identify that if the university has a placement cell or not.\n",
    "    has_hostel = This is used to identify that if the university has a hostel or not.\n",
    "    has_IEEE = This is used to identify that if the university has a IEEE or not.\n",
    "    has_sports_club = This is used to identify that if the university has a sports club or not.\n",
    "    has_NCC = This is used to identify that if the university has a NCC or not.\n",
    "    last_year_cutoff = It shows that what was the cutoff of the university last year.\n",
    "    Score = It shows student score by which the admission is decided.\n",
    "    selection = It shows the selection of the student.\n",
    "    \n"
   ]
  },
  {
   "cell_type": "code",
   "execution_count": 15,
   "metadata": {},
   "outputs": [
    {
     "data": {
      "text/html": [
       "<div>\n",
       "<style scoped>\n",
       "    .dataframe tbody tr th:only-of-type {\n",
       "        vertical-align: middle;\n",
       "    }\n",
       "\n",
       "    .dataframe tbody tr th {\n",
       "        vertical-align: top;\n",
       "    }\n",
       "\n",
       "    .dataframe thead th {\n",
       "        text-align: right;\n",
       "    }\n",
       "</style>\n",
       "<table border=\"1\" class=\"dataframe\">\n",
       "  <thead>\n",
       "    <tr style=\"text-align: right;\">\n",
       "      <th></th>\n",
       "      <th>Uni_code</th>\n",
       "      <th>Uni_name</th>\n",
       "      <th>Branch</th>\n",
       "      <th>has_placement_cell</th>\n",
       "      <th>has_hostel</th>\n",
       "      <th>has_IEEE</th>\n",
       "      <th>has_sports_club</th>\n",
       "      <th>has_NCC</th>\n",
       "      <th>last_year_cutoff</th>\n",
       "      <th>Score</th>\n",
       "      <th>selection</th>\n",
       "    </tr>\n",
       "  </thead>\n",
       "  <tbody>\n",
       "    <tr>\n",
       "      <th>0</th>\n",
       "      <td>Uniid_1</td>\n",
       "      <td>University_1</td>\n",
       "      <td>communication engineering</td>\n",
       "      <td>True</td>\n",
       "      <td>False</td>\n",
       "      <td>False</td>\n",
       "      <td>True</td>\n",
       "      <td>True</td>\n",
       "      <td>521</td>\n",
       "      <td>117</td>\n",
       "      <td>Rejected</td>\n",
       "    </tr>\n",
       "    <tr>\n",
       "      <th>1</th>\n",
       "      <td>Uniid_2</td>\n",
       "      <td>University_2</td>\n",
       "      <td>BA in Arts (Fine/ Visual/ Performing)</td>\n",
       "      <td>False</td>\n",
       "      <td>True</td>\n",
       "      <td>False</td>\n",
       "      <td>True</td>\n",
       "      <td>True</td>\n",
       "      <td>724</td>\n",
       "      <td>721</td>\n",
       "      <td>Rejected</td>\n",
       "    </tr>\n",
       "    <tr>\n",
       "      <th>2</th>\n",
       "      <td>Uniid_3</td>\n",
       "      <td>University_3</td>\n",
       "      <td>Electrical engineering</td>\n",
       "      <td>False</td>\n",
       "      <td>False</td>\n",
       "      <td>False</td>\n",
       "      <td>False</td>\n",
       "      <td>True</td>\n",
       "      <td>769</td>\n",
       "      <td>417</td>\n",
       "      <td>Rejected</td>\n",
       "    </tr>\n",
       "    <tr>\n",
       "      <th>3</th>\n",
       "      <td>Uniid_4</td>\n",
       "      <td>University_4</td>\n",
       "      <td>Electronic</td>\n",
       "      <td>True</td>\n",
       "      <td>True</td>\n",
       "      <td>True</td>\n",
       "      <td>False</td>\n",
       "      <td>True</td>\n",
       "      <td>271</td>\n",
       "      <td>909</td>\n",
       "      <td>Accepted</td>\n",
       "    </tr>\n",
       "    <tr>\n",
       "      <th>4</th>\n",
       "      <td>Uniid_5</td>\n",
       "      <td>University_5</td>\n",
       "      <td>Electronic</td>\n",
       "      <td>True</td>\n",
       "      <td>False</td>\n",
       "      <td>False</td>\n",
       "      <td>False</td>\n",
       "      <td>True</td>\n",
       "      <td>985</td>\n",
       "      <td>538</td>\n",
       "      <td>Rejected</td>\n",
       "    </tr>\n",
       "    <tr>\n",
       "      <th>...</th>\n",
       "      <td>...</td>\n",
       "      <td>...</td>\n",
       "      <td>...</td>\n",
       "      <td>...</td>\n",
       "      <td>...</td>\n",
       "      <td>...</td>\n",
       "      <td>...</td>\n",
       "      <td>...</td>\n",
       "      <td>...</td>\n",
       "      <td>...</td>\n",
       "      <td>...</td>\n",
       "    </tr>\n",
       "    <tr>\n",
       "      <th>9995</th>\n",
       "      <td>Uniid_9996</td>\n",
       "      <td>University_9996</td>\n",
       "      <td>Mechanical engineering</td>\n",
       "      <td>False</td>\n",
       "      <td>True</td>\n",
       "      <td>False</td>\n",
       "      <td>True</td>\n",
       "      <td>True</td>\n",
       "      <td>7</td>\n",
       "      <td>3</td>\n",
       "      <td>Rejected</td>\n",
       "    </tr>\n",
       "    <tr>\n",
       "      <th>9996</th>\n",
       "      <td>Uniid_9997</td>\n",
       "      <td>University_9997</td>\n",
       "      <td>BDes in Animation</td>\n",
       "      <td>True</td>\n",
       "      <td>True</td>\n",
       "      <td>True</td>\n",
       "      <td>False</td>\n",
       "      <td>False</td>\n",
       "      <td>668</td>\n",
       "      <td>423</td>\n",
       "      <td>Rejected</td>\n",
       "    </tr>\n",
       "    <tr>\n",
       "      <th>9997</th>\n",
       "      <td>Uniid_9998</td>\n",
       "      <td>University_9998</td>\n",
       "      <td>Bachelor of Fine Arts (BFA)</td>\n",
       "      <td>True</td>\n",
       "      <td>False</td>\n",
       "      <td>False</td>\n",
       "      <td>False</td>\n",
       "      <td>True</td>\n",
       "      <td>622</td>\n",
       "      <td>282</td>\n",
       "      <td>Rejected</td>\n",
       "    </tr>\n",
       "    <tr>\n",
       "      <th>9998</th>\n",
       "      <td>Uniid_9999</td>\n",
       "      <td>University_9999</td>\n",
       "      <td>BA in Arts (Fine/ Visual/ Performing)</td>\n",
       "      <td>False</td>\n",
       "      <td>False</td>\n",
       "      <td>False</td>\n",
       "      <td>False</td>\n",
       "      <td>False</td>\n",
       "      <td>280</td>\n",
       "      <td>887</td>\n",
       "      <td>Accepted</td>\n",
       "    </tr>\n",
       "    <tr>\n",
       "      <th>9999</th>\n",
       "      <td>Uniid_10000</td>\n",
       "      <td>University_10000</td>\n",
       "      <td>Company Secretary (CS)</td>\n",
       "      <td>True</td>\n",
       "      <td>True</td>\n",
       "      <td>False</td>\n",
       "      <td>False</td>\n",
       "      <td>False</td>\n",
       "      <td>687</td>\n",
       "      <td>756</td>\n",
       "      <td>Accepted</td>\n",
       "    </tr>\n",
       "  </tbody>\n",
       "</table>\n",
       "<p>10000 rows × 11 columns</p>\n",
       "</div>"
      ],
      "text/plain": [
       "         Uni_code          Uni_name                                 Branch  \\\n",
       "0         Uniid_1      University_1              communication engineering   \n",
       "1         Uniid_2      University_2  BA in Arts (Fine/ Visual/ Performing)   \n",
       "2         Uniid_3      University_3                 Electrical engineering   \n",
       "3         Uniid_4      University_4                             Electronic   \n",
       "4         Uniid_5      University_5                             Electronic   \n",
       "...           ...               ...                                    ...   \n",
       "9995   Uniid_9996   University_9996                 Mechanical engineering   \n",
       "9996   Uniid_9997   University_9997                      BDes in Animation   \n",
       "9997   Uniid_9998   University_9998            Bachelor of Fine Arts (BFA)   \n",
       "9998   Uniid_9999   University_9999  BA in Arts (Fine/ Visual/ Performing)   \n",
       "9999  Uniid_10000  University_10000                 Company Secretary (CS)   \n",
       "\n",
       "      has_placement_cell  has_hostel  has_IEEE  has_sports_club  has_NCC  \\\n",
       "0                   True       False     False             True     True   \n",
       "1                  False        True     False             True     True   \n",
       "2                  False       False     False            False     True   \n",
       "3                   True        True      True            False     True   \n",
       "4                   True       False     False            False     True   \n",
       "...                  ...         ...       ...              ...      ...   \n",
       "9995               False        True     False             True     True   \n",
       "9996                True        True      True            False    False   \n",
       "9997                True       False     False            False     True   \n",
       "9998               False       False     False            False    False   \n",
       "9999                True        True     False            False    False   \n",
       "\n",
       "      last_year_cutoff  Score selection  \n",
       "0                  521    117  Rejected  \n",
       "1                  724    721  Rejected  \n",
       "2                  769    417  Rejected  \n",
       "3                  271    909  Accepted  \n",
       "4                  985    538  Rejected  \n",
       "...                ...    ...       ...  \n",
       "9995                 7      3  Rejected  \n",
       "9996               668    423  Rejected  \n",
       "9997               622    282  Rejected  \n",
       "9998               280    887  Accepted  \n",
       "9999               687    756  Accepted  \n",
       "\n",
       "[10000 rows x 11 columns]"
      ]
     },
     "execution_count": 15,
     "metadata": {},
     "output_type": "execute_result"
    }
   ],
   "source": [
    "def data(row): # function to get the data from the row\n",
    "    uni_recomm = {\n",
    "        \"Uni_code\": [f\"Uniid_{i+1}\" for i in range(row)], # create a list of uni_code\n",
    "        \"Uni_name\": [f\"University_{i+1}\" for i in range(row)], # create a list of uni_name\n",
    "        \"Branch\": [np.random.choice([\"Computer science engineering\", \"Mechanical engineering\", \"Electronic\", \"communication engineering\", \"Electrical engineering\", \"Civil engineering\", \"BCom\", \"BCA (IT and Software)\", \"BBA LLB\", \"Chartered Accountancy (CA)\", \"BBA/BMS\", \"Company Secretary (CS)\", \"BA in Humanities & Social Sciences\", \"BA in Arts (Fine/ Visual/ Performing)\", \"Bachelor of Fine Arts (BFA)\", \"BDes in Animation\", \"BA LLB\", \"BDes in Design\", \"BSc in Hospitality & Travel\", \"BSc in Design\"]) for i in range(row)], # create a list of branch\n",
    "        \"has_placement_cell\": [np.random.choice([True,False]) for i in range(row)], # create a list of has_placement_cell\n",
    "        \"has_hostel\": [np.random.choice([True,False]) for i in range(row)], # create a list of has_hostel\n",
    "        \"has_IEEE\": [np.random.choice([True,False]) for i in range(row)], # create a list of has_IEEE\n",
    "        \"has_sports_club\": [np.random.choice([True,False]) for i in range(row)], # create a list of has_sports_club\n",
    "        \"has_NCC\": [np.random.choice([True,False]) for i in range(row)], # create a list of has_NCC\n",
    "        \"last_year_cutoff\": [np.random.randint(0, 1000) for i in range(row)], # create a list of last_year_cutoff\n",
    "        \"Score\": [np.random.randint(0, 1000) for i in range(row)], # create a list of Score\n",
    "        \"selection\": [] # create a list of selection\n",
    "    } # dictionary to store the data\n",
    "    for i in range(row): # for loop to get the selection\n",
    "        if uni_recomm[\"Score\"][i] >= uni_recomm[\"last_year_cutoff\"][i]: # if the score is greater than the last_year_cutoff\n",
    "            uni_recomm[\"selection\"].append(\"Accepted\") # append the selection as Accepted\n",
    "        else: # else\n",
    "            uni_recomm[\"selection\"].append(\"Rejected\") # append the selection as Rejected\n",
    "    uni_recomm_df = pd.DataFrame(uni_recomm) # create a dataframe from the dictionary\n",
    "    # uni_recomm_df.to_csv(\"uni_recomm.csv\", index=False) # save the dataframe as csv\n",
    "    return uni_recomm_df # return the dataframe\n",
    "\n",
    "uni_data = data(10000) # call the data function to get the dataframe\n",
    "# uni_df = pd.read_csv(\"uni_recomm.csv\") # read the csv file\n",
    "uni_df = uni_data # assign the dataframe to the uni_df\n",
    "uni_data # print the dataframe\n"
   ]
  },
  {
   "cell_type": "markdown",
   "metadata": {},
   "source": [
    "## Basic Analysis"
   ]
  },
  {
   "cell_type": "code",
   "execution_count": 16,
   "metadata": {},
   "outputs": [
    {
     "data": {
      "text/plain": [
       "Index(['Uni_code', 'Uni_name', 'Branch', 'has_placement_cell', 'has_hostel',\n",
       "       'has_IEEE', 'has_sports_club', 'has_NCC', 'last_year_cutoff', 'Score',\n",
       "       'selection'],\n",
       "      dtype='object')"
      ]
     },
     "execution_count": 16,
     "metadata": {},
     "output_type": "execute_result"
    }
   ],
   "source": [
    "uni_df.columns # get the columns"
   ]
  },
  {
   "cell_type": "code",
   "execution_count": 17,
   "metadata": {},
   "outputs": [
    {
     "name": "stdout",
     "output_type": "stream",
     "text": [
      "<class 'pandas.core.frame.DataFrame'>\n",
      "RangeIndex: 10000 entries, 0 to 9999\n",
      "Data columns (total 11 columns):\n",
      " #   Column              Non-Null Count  Dtype \n",
      "---  ------              --------------  ----- \n",
      " 0   Uni_code            10000 non-null  object\n",
      " 1   Uni_name            10000 non-null  object\n",
      " 2   Branch              10000 non-null  object\n",
      " 3   has_placement_cell  10000 non-null  bool  \n",
      " 4   has_hostel          10000 non-null  bool  \n",
      " 5   has_IEEE            10000 non-null  bool  \n",
      " 6   has_sports_club     10000 non-null  bool  \n",
      " 7   has_NCC             10000 non-null  bool  \n",
      " 8   last_year_cutoff    10000 non-null  int64 \n",
      " 9   Score               10000 non-null  int64 \n",
      " 10  selection           10000 non-null  object\n",
      "dtypes: bool(5), int64(2), object(4)\n",
      "memory usage: 517.7+ KB\n"
     ]
    }
   ],
   "source": [
    "uni_df.info() # get the info of the dataframe"
   ]
  },
  {
   "cell_type": "markdown",
   "metadata": {},
   "source": [
    "the average of university's last year cutoff"
   ]
  },
  {
   "cell_type": "code",
   "execution_count": 18,
   "metadata": {
    "scrolled": true
   },
   "outputs": [
    {
     "data": {
      "text/plain": [
       "Chartered Accountancy (CA)               544\n",
       "communication engineering                542\n",
       "BCA (IT and Software)                    531\n",
       "BA in Arts (Fine/ Visual/ Performing)    518\n",
       "BDes in Design                           515\n",
       "Electronic                               514\n",
       "Company Secretary (CS)                   513\n",
       "BA LLB                                   507\n",
       "BBA LLB                                  502\n",
       "BDes in Animation                        498\n",
       "BBA/BMS                                  495\n",
       "Computer science engineering             493\n",
       "Mechanical engineering                   487\n",
       "BSc in Design                            487\n",
       "BA in Humanities & Social Sciences       485\n",
       "BSc in Hospitality & Travel              483\n",
       "BCom                                     477\n",
       "Electrical engineering                   473\n",
       "Civil engineering                        470\n",
       "Bachelor of Fine Arts (BFA)              466\n",
       "Name: Branch, dtype: int64"
      ]
     },
     "execution_count": 18,
     "metadata": {},
     "output_type": "execute_result"
    }
   ],
   "source": [
    "uni_df.Branch.value_counts() # get the count of the branch"
   ]
  },
  {
   "cell_type": "code",
   "execution_count": 19,
   "metadata": {},
   "outputs": [
    {
     "data": {
      "text/html": [
       "<div>\n",
       "<style scoped>\n",
       "    .dataframe tbody tr th:only-of-type {\n",
       "        vertical-align: middle;\n",
       "    }\n",
       "\n",
       "    .dataframe tbody tr th {\n",
       "        vertical-align: top;\n",
       "    }\n",
       "\n",
       "    .dataframe thead th {\n",
       "        text-align: right;\n",
       "    }\n",
       "</style>\n",
       "<table border=\"1\" class=\"dataframe\">\n",
       "  <thead>\n",
       "    <tr style=\"text-align: right;\">\n",
       "      <th></th>\n",
       "      <th>last_year_cutoff</th>\n",
       "      <th>Score</th>\n",
       "    </tr>\n",
       "  </thead>\n",
       "  <tbody>\n",
       "    <tr>\n",
       "      <th>count</th>\n",
       "      <td>10000.000000</td>\n",
       "      <td>10000.000000</td>\n",
       "    </tr>\n",
       "    <tr>\n",
       "      <th>mean</th>\n",
       "      <td>502.018400</td>\n",
       "      <td>504.378000</td>\n",
       "    </tr>\n",
       "    <tr>\n",
       "      <th>std</th>\n",
       "      <td>289.933874</td>\n",
       "      <td>290.242216</td>\n",
       "    </tr>\n",
       "    <tr>\n",
       "      <th>min</th>\n",
       "      <td>0.000000</td>\n",
       "      <td>0.000000</td>\n",
       "    </tr>\n",
       "    <tr>\n",
       "      <th>25%</th>\n",
       "      <td>249.000000</td>\n",
       "      <td>253.750000</td>\n",
       "    </tr>\n",
       "    <tr>\n",
       "      <th>50%</th>\n",
       "      <td>507.000000</td>\n",
       "      <td>509.000000</td>\n",
       "    </tr>\n",
       "    <tr>\n",
       "      <th>75%</th>\n",
       "      <td>753.000000</td>\n",
       "      <td>756.000000</td>\n",
       "    </tr>\n",
       "    <tr>\n",
       "      <th>max</th>\n",
       "      <td>999.000000</td>\n",
       "      <td>999.000000</td>\n",
       "    </tr>\n",
       "  </tbody>\n",
       "</table>\n",
       "</div>"
      ],
      "text/plain": [
       "       last_year_cutoff         Score\n",
       "count      10000.000000  10000.000000\n",
       "mean         502.018400    504.378000\n",
       "std          289.933874    290.242216\n",
       "min            0.000000      0.000000\n",
       "25%          249.000000    253.750000\n",
       "50%          507.000000    509.000000\n",
       "75%          753.000000    756.000000\n",
       "max          999.000000    999.000000"
      ]
     },
     "execution_count": 19,
     "metadata": {},
     "output_type": "execute_result"
    }
   ],
   "source": [
    "uni_df.describe() # get the description of the dataframe"
   ]
  },
  {
   "cell_type": "code",
   "execution_count": 20,
   "metadata": {},
   "outputs": [
    {
     "data": {
      "text/plain": [
       "<AxesSubplot:xlabel='Branch', ylabel='count'>"
      ]
     },
     "execution_count": 20,
     "metadata": {},
     "output_type": "execute_result"
    },
    {
     "data": {
      "image/png": "[encoded data removed]",
      "text/plain": [
       "<Figure size 5760x1440 with 1 Axes>"
      ]
     },
     "metadata": {
      "needs_background": "light"
     },
     "output_type": "display_data"
    }
   ],
   "source": [
    "# barplot of the branch\n",
    "plt.figure(figsize=(80,20))\n",
    "sns.countplot(x=\"Branch\", data=uni_df,order=uni_df.Branch.value_counts().index)"
   ]
  },
  {
   "cell_type": "code",
   "execution_count": 21,
   "metadata": {},
   "outputs": [
    {
     "data": {
      "text/plain": [
       "Text(1, 512.0183999999999, 'Average last_year_cutoff: 502.0184')"
      ]
     },
     "execution_count": 21,
     "metadata": {},
     "output_type": "execute_result"
    },
    {
     "data": {
      "image/png": "[encoded data removed]",
      "text/plain": [
       "<Figure size 2160x2160 with 1 Axes>"
      ]
     },
     "metadata": {
      "needs_background": "light"
     },
     "output_type": "display_data"
    }
   ],
   "source": [
    "avg_score = uni_df.Score.mean() # get the average score\n",
    "avg_last_year_cutoff = uni_df.last_year_cutoff.mean() # get the average last_year_cutoff\n",
    "plt.figure(figsize=(30,30))\n",
    "plt.title(\"Average score and last year cutoff\", fontsize=20, fontweight=\"bold\", color=\"Green\")\n",
    "plt.bar(\"Average score\", avg_score, color=\"red\") # plot the average score\n",
    "plt.bar(\"Average last_year_cutoff\", avg_last_year_cutoff, color=\"blue\") # plot the average last_year_cutoff\n",
    "plt.annotate(f\"Average score: {avg_score}\", xy=(0, avg_score), xytext=(0, avg_score+10), arrowprops=dict(facecolor='black', shrink=0.05)) # annotate the average score\n",
    "plt.annotate(f\"Average last_year_cutoff: {avg_last_year_cutoff}\", xy=(1, avg_last_year_cutoff), xytext=(1, avg_last_year_cutoff+10), arrowprops=dict(facecolor='black', shrink=0.05)) # annotate the average last_year_cutoff"
   ]
  },
  {
   "cell_type": "markdown",
   "metadata": {},
   "source": [
    "## Data Preprocessing, KNN model Training & Testing"
   ]
  },
  {
   "cell_type": "code",
   "execution_count": 22,
   "metadata": {},
   "outputs": [
    {
     "name": "stdout",
     "output_type": "stream",
     "text": [
      "Classification Report\n",
      "               precision    recall  f1-score   support\n",
      "\n",
      "           0       0.99      1.00      1.00      1207\n",
      "           1       1.00      0.99      1.00      1293\n",
      "\n",
      "    accuracy                           1.00      2500\n",
      "   macro avg       1.00      1.00      1.00      2500\n",
      "weighted avg       1.00      1.00      1.00      2500\n",
      "\n",
      "Accuracy to recommand an University is  99.56 %\n"
     ]
    },
    {
     "data": {
      "text/plain": [
       "Text(33.0, 0.5, 'Actual')"
      ]
     },
     "execution_count": 22,
     "metadata": {},
     "output_type": "execute_result"
    },
    {
     "data": {
      "image/png": "[encoded data removed]",
      "text/plain": [
       "<Figure size 432x288 with 1 Axes>"
      ]
     },
     "metadata": {
      "needs_background": "light"
     },
     "output_type": "display_data"
    }
   ],
   "source": [
    "#KNN\n",
    "\n",
    "#step 1: encode categorical variables\n",
    "from sklearn.preprocessing import LabelEncoder # import the label encoder\n",
    "le = LabelEncoder() # create a label encoder\n",
    "uni_df[\"Branch\"] = le.fit_transform(uni_df[\"Branch\"]) # fit and transform the branch\n",
    "uni_df[\"has_placement_cell\"] = le.fit_transform(uni_df[\"has_placement_cell\"]) # fit and transform the has_placement_cell\n",
    "uni_df[\"has_hostel\"] = le.fit_transform(uni_df[\"has_hostel\"]) # fit and transform the has_hostel\n",
    "uni_df[\"has_IEEE\"] = le.fit_transform(uni_df[\"has_IEEE\"]) # fit and transform the has_IEEE\n",
    "uni_df[\"has_sports_club\"] = le.fit_transform(uni_df[\"has_sports_club\"]) # fit and transform the has_sports_club\n",
    "uni_df[\"has_NCC\"] = le.fit_transform(uni_df[\"has_NCC\"]) # fit and transform the has_NCC\n",
    "uni_df[\"selection\"] = le.fit_transform(uni_df[\"selection\"]) # fit and transform the selection\n",
    "\n",
    "#step 2: create a dataframe with all the features\n",
    "uni_df_features = uni_df.drop([\"Uni_code\", \"Uni_name\", \"selection\"], axis=1) # drop the columns\n",
    "\n",
    "#step 3: create a dataframe with the target variable\n",
    "uni_df_target = uni_df[\"selection\"] # get the selection column\n",
    "\n",
    "#step 4: split the data into training and testing data\n",
    "from sklearn.model_selection import train_test_split # import the train_test_split function\n",
    "X_train, X_test, y_train, y_test = train_test_split(uni_df_features, uni_df_target, test_size=0.25) # split the data into training and testing data\n",
    "\n",
    "#step 5: train the model\n",
    "from sklearn.neighbors import KNeighborsClassifier # import the KNeighborsClassifier function\n",
    "knn = KNeighborsClassifier(n_neighbors=5) # create a knn model with n_neighbors=17\n",
    "knn.fit(X_train, y_train) # fit the model\n",
    "\n",
    "#step 6: predict the test data\n",
    "y_pred = knn.predict(X_test) # predict the test data\n",
    "\n",
    "#step 7: evaluate the model\n",
    "from sklearn.metrics import classification_report, confusion_matrix, accuracy_score # import the classification_report, confusion_matrix, accuracy_score functions\n",
    "\n",
    "# classification Report\n",
    "print(\"Classification Report\\n\",classification_report(y_test, y_pred)) # print the classification report\n",
    "\n",
    "# Accuracy Score\n",
    "print(\"Accuracy to recommand an University is \",accuracy_score(y_test, y_pred)*100,\"%\") # print the accuracy score\n",
    "\n",
    "# Confusion Matrix\n",
    "matrix = confusion_matrix(y_test, y_pred) # get the confusion matrix\n",
    "sns.heatmap(matrix, annot=True, cbar=False, fmt=\"d\") # plot the confusion matrix\n",
    "plt.title(\"Confusion Matrix\") # plot the title\n",
    "plt.xlabel(\"Predicted\") # plot the x-axis label\n",
    "plt.ylabel(\"Actual\") # plot the y-axis label"
   ]
  },
  {
   "cell_type": "markdown",
   "metadata": {},
   "source": [
    "## Elbow Method"
   ]
  },
  {
   "cell_type": "code",
   "execution_count": 23,
   "metadata": {},
   "outputs": [
    {
     "data": {
      "text/plain": [
       "<Figure size 2160x1440 with 0 Axes>"
      ]
     },
     "execution_count": 23,
     "metadata": {},
     "output_type": "execute_result"
    },
    {
     "data": {
      "image/png": "[encoded data removed]",
      "text/plain": [
       "<Figure size 432x288 with 1 Axes>"
      ]
     },
     "metadata": {
      "needs_background": "light"
     },
     "output_type": "display_data"
    },
    {
     "data": {
      "text/plain": [
       "<Figure size 2160x1440 with 0 Axes>"
      ]
     },
     "metadata": {},
     "output_type": "display_data"
    }
   ],
   "source": [
    "# importing libraries required for Elbow Method\n",
    "errorrate = [] # create a list to store the error rate\n",
    "for i in range(1,25,2): # for loop to get the error rate for different values of k\n",
    "    knn = KNeighborsClassifier(n_neighbors=i) # create a knn model with n_neighbors=i\n",
    "    knn.fit(X_train, y_train) # fit the model\n",
    "    pred_i = knn.predict(X_test) # predict the test data\n",
    "    errorrate.append(np.mean(pred_i != y_test)) # append the error rate to the list\n",
    "errorrate # print the error rate\n",
    "x = range(1,25,2) # create a list to store the values of k\n",
    "y = errorrate # create a list to store the error rate\n",
    "plt.plot(x, y) # plot the error rate vs k\n",
    "plt.figure(figsize=(30,20)) # create a figure with a size of 30x20\n"
   ]
  },
  {
   "cell_type": "markdown",
   "metadata": {},
   "source": [
    "## KNN for Plotting"
   ]
  },
  {
   "cell_type": "code",
   "execution_count": 24,
   "metadata": {},
   "outputs": [
    {
     "name": "stderr",
     "output_type": "stream",
     "text": [
      "/Users/divyeshpatel/opt/anaconda3/lib/python3.9/site-packages/sklearn/base.py:450: UserWarning: X does not have valid feature names, but KNeighborsClassifier was fitted with feature names\n",
      "  warnings.warn(\n"
     ]
    },
    {
     "data": {
      "text/plain": [
       "array([1, 1, 1, ..., 1, 0, 1])"
      ]
     },
     "execution_count": 24,
     "metadata": {},
     "output_type": "execute_result"
    },
    {
     "data": {
      "image/png": "[encoded data removed]",
      "text/plain": [
       "<Figure size 432x288 with 1 Axes>"
      ]
     },
     "metadata": {
      "needs_background": "light"
     },
     "output_type": "display_data"
    }
   ],
   "source": [
    "#step 1: create a dataframe with all the features\n",
    "uni_df_features_plot = uni_df.drop([\"Uni_code\", \"Uni_name\", \"selection\", \"Branch\", \"has_placement_cell\", \"has_hostel\", \"has_IEEE\", \"has_sports_club\", \"has_NCC\"], axis=1)\n",
    "\n",
    "#step 2: create a dataframe with the target variable\n",
    "uni_df_target_plot = uni_df[\"selection\"]\n",
    "\n",
    "#step 3: split the data into training and testing data\n",
    "from sklearn.model_selection import train_test_split\n",
    "X_train1, X_test1, y_train1, y_test1 = train_test_split(uni_df_features_plot, uni_df_target_plot, test_size=0.25)\n",
    "\n",
    "#step 4: train the model\n",
    "from sklearn.neighbors import KNeighborsClassifier\n",
    "knn1 = KNeighborsClassifier(n_neighbors=3)\n",
    "knn1.fit(X_train1, y_train1)\n",
    "\n",
    "#step 5: predict the test data\n",
    "y_pred = knn1.predict(X_test1)\n",
    "\n",
    "#KNN visualization\n",
    "from mlxtend.plotting import plot_decision_regions # import the plot_decision_regions function\n",
    "\n",
    "plot_decision_regions(np.array(uni_df_features_plot.sample(10)), np.array(uni_df_target_plot.sample(10)), clf=knn1, legend=2) # plot the decision regions\n",
    "plt.xlabel('X') # plot the x-axis label\n",
    "plt.ylabel('Y') # plot the y-axis label\n",
    "plt.title('KNN') # plot the title\n",
    "\n",
    "y_pred"
   ]
  },
  {
   "cell_type": "markdown",
   "metadata": {},
   "source": [
    "## Custom Input To check the Output"
   ]
  },
  {
   "cell_type": "markdown",
   "metadata": {},
   "source": [
    "*want_branch = from 0 to 19* <br>\n",
    "<pre>\n",
    "        0 = \"Computer science engineering\"\n",
    "        1 = \"Mechanical engineering\"\n",
    "        2 = \"Electronic\"\n",
    "        3 = \"communication engineering\"\n",
    "        4 = \"Electrical engineering\"\n",
    "        5 = \"Civil engineering\"\n",
    "        6 = \"BCom\"\n",
    "        7 = \"BCA (IT and Software)\"\n",
    "        8 = \"BBA LLB\"\n",
    "        9 = \"Chartered Accountancy (CA)\"\n",
    "        10 = \"BBA/BMS\"\n",
    "        11 = \"Company Secretary (CS)\"\n",
    "        12 = \"BA in Humanities & Social Sciences\"\n",
    "        13 = \"BA in Arts (Fine/ Visual/ Performing)\"\n",
    "        14 = \"Bachelor of Fine Arts (BFA)\"\n",
    "        15 = \"BDes in Animation\"\n",
    "        16 = \"BA LLB\"\n",
    "        17 = \"BDes in Design\"\n",
    "        18 = \"BSc in Hospitality & Travel\"\n",
    "        19 = \"BSc in Design\" \n",
    "</pre> \n",
    "*want_placement_cell = 0 or 1* <br>\n",
    "<pre>\n",
    "        0 = \"Yes\"\n",
    "        1 = \"No\"\n",
    "</pre> \n",
    "*want_hostel = 0 or 1* <br>\n",
    "<pre>\n",
    "        0 = \"Yes\"\n",
    "        1 = \"No\"\n",
    "</pre> \n",
    "*want_IEEE = 0 or 1* <br>\n",
    "<pre>\n",
    "        0 = \"Yes\"\n",
    "        1 = \"No\"\n",
    "</pre> \n",
    "*want_sports_club = 0 or 1* <br> \n",
    "<pre>\n",
    "        0 = \"Yes\"\n",
    "        1 = \"No\"\n",
    "</pre> \n",
    "*want_NCC = 0 or 1* <br>\n",
    "<pre>\n",
    "        0 = \"Yes\"\n",
    "        1 = \"No\"\n",
    "</pre> \n",
    "*your_score = enter your score* <br>"
   ]
  },
  {
   "cell_type": "code",
   "execution_count": 25,
   "metadata": {},
   "outputs": [],
   "source": [
    "# want_branch = int(input(\"Enter the branch you want to predict(0,19): \")) # get the branch from the user\n",
    "# want_placement_cell = int(input(\"Enter the placement cell you want to predict(0,1): \")) # get the placement cell from the user\n",
    "# want_hostel = int(input(\"Enter the hostel you want to predict(0,1): \")) # get the hostel from the user\n",
    "# want_IEEE = int(input(\"Enter the IEEE you want to predict(0,1): \")) # get the IEEE from the user\n",
    "# want_sports_club = int(input(\"Enter the sports club you want to predict(0,1): \")) # get the sports club from the user\n",
    "# want_NCC = int(input(\"Enter the NCC you want to predict(0,1): \")) # get the NCC from the user\n",
    "# cut_off =  np.random.randint(0,1000)\n",
    "# your_score = int(input(\"Enter your score(0,1000): \")) # get the score from the user"
   ]
  },
  {
   "cell_type": "code",
   "execution_count": 32,
   "metadata": {},
   "outputs": [
    {
     "name": "stdout",
     "output_type": "stream",
     "text": [
      "Your score is not eligible, this are some Universities according to your score and interest.\n"
     ]
    },
    {
     "name": "stderr",
     "output_type": "stream",
     "text": [
      "/Users/divyeshpatel/opt/anaconda3/lib/python3.9/site-packages/sklearn/base.py:450: UserWarning: X does not have valid feature names, but KNeighborsClassifier was fitted with feature names\n",
      "  warnings.warn(\n"
     ]
    },
    {
     "data": {
      "text/html": [
       "<div>\n",
       "<style scoped>\n",
       "    .dataframe tbody tr th:only-of-type {\n",
       "        vertical-align: middle;\n",
       "    }\n",
       "\n",
       "    .dataframe tbody tr th {\n",
       "        vertical-align: top;\n",
       "    }\n",
       "\n",
       "    .dataframe thead th {\n",
       "        text-align: right;\n",
       "    }\n",
       "</style>\n",
       "<table border=\"1\" class=\"dataframe\">\n",
       "  <thead>\n",
       "    <tr style=\"text-align: right;\">\n",
       "      <th></th>\n",
       "      <th>Uni_code</th>\n",
       "      <th>Uni_name</th>\n",
       "      <th>Branch</th>\n",
       "      <th>has_placement_cell</th>\n",
       "      <th>has_hostel</th>\n",
       "      <th>has_IEEE</th>\n",
       "      <th>has_sports_club</th>\n",
       "      <th>has_NCC</th>\n",
       "      <th>last_year_cutoff</th>\n",
       "    </tr>\n",
       "  </thead>\n",
       "  <tbody>\n",
       "    <tr>\n",
       "      <th>0</th>\n",
       "      <td>Uniid_284</td>\n",
       "      <td>University_284</td>\n",
       "      <td>Company Secretary (CS)</td>\n",
       "      <td>Yes</td>\n",
       "      <td>Yes</td>\n",
       "      <td>Yes</td>\n",
       "      <td>No</td>\n",
       "      <td>Yes</td>\n",
       "      <td>678</td>\n",
       "    </tr>\n",
       "    <tr>\n",
       "      <th>1</th>\n",
       "      <td>Uniid_7820</td>\n",
       "      <td>University_7820</td>\n",
       "      <td>Company Secretary (CS)</td>\n",
       "      <td>No</td>\n",
       "      <td>Yes</td>\n",
       "      <td>No</td>\n",
       "      <td>No</td>\n",
       "      <td>No</td>\n",
       "      <td>527</td>\n",
       "    </tr>\n",
       "    <tr>\n",
       "      <th>2</th>\n",
       "      <td>Uniid_94</td>\n",
       "      <td>University_94</td>\n",
       "      <td>Company Secretary (CS)</td>\n",
       "      <td>No</td>\n",
       "      <td>Yes</td>\n",
       "      <td>Yes</td>\n",
       "      <td>No</td>\n",
       "      <td>Yes</td>\n",
       "      <td>304</td>\n",
       "    </tr>\n",
       "    <tr>\n",
       "      <th>3</th>\n",
       "      <td>Uniid_9565</td>\n",
       "      <td>University_9565</td>\n",
       "      <td>Company Secretary (CS)</td>\n",
       "      <td>No</td>\n",
       "      <td>Yes</td>\n",
       "      <td>No</td>\n",
       "      <td>No</td>\n",
       "      <td>Yes</td>\n",
       "      <td>8</td>\n",
       "    </tr>\n",
       "    <tr>\n",
       "      <th>4</th>\n",
       "      <td>Uniid_452</td>\n",
       "      <td>University_452</td>\n",
       "      <td>Company Secretary (CS)</td>\n",
       "      <td>No</td>\n",
       "      <td>Yes</td>\n",
       "      <td>No</td>\n",
       "      <td>No</td>\n",
       "      <td>No</td>\n",
       "      <td>630</td>\n",
       "    </tr>\n",
       "    <tr>\n",
       "      <th>5</th>\n",
       "      <td>Uniid_5963</td>\n",
       "      <td>University_5963</td>\n",
       "      <td>Company Secretary (CS)</td>\n",
       "      <td>No</td>\n",
       "      <td>Yes</td>\n",
       "      <td>No</td>\n",
       "      <td>No</td>\n",
       "      <td>No</td>\n",
       "      <td>435</td>\n",
       "    </tr>\n",
       "    <tr>\n",
       "      <th>6</th>\n",
       "      <td>Uniid_2370</td>\n",
       "      <td>University_2370</td>\n",
       "      <td>Company Secretary (CS)</td>\n",
       "      <td>Yes</td>\n",
       "      <td>Yes</td>\n",
       "      <td>No</td>\n",
       "      <td>No</td>\n",
       "      <td>No</td>\n",
       "      <td>393</td>\n",
       "    </tr>\n",
       "    <tr>\n",
       "      <th>7</th>\n",
       "      <td>Uniid_8566</td>\n",
       "      <td>University_8566</td>\n",
       "      <td>Company Secretary (CS)</td>\n",
       "      <td>Yes</td>\n",
       "      <td>No</td>\n",
       "      <td>No</td>\n",
       "      <td>Yes</td>\n",
       "      <td>Yes</td>\n",
       "      <td>410</td>\n",
       "    </tr>\n",
       "    <tr>\n",
       "      <th>8</th>\n",
       "      <td>Uniid_8823</td>\n",
       "      <td>University_8823</td>\n",
       "      <td>Company Secretary (CS)</td>\n",
       "      <td>Yes</td>\n",
       "      <td>No</td>\n",
       "      <td>Yes</td>\n",
       "      <td>No</td>\n",
       "      <td>No</td>\n",
       "      <td>234</td>\n",
       "    </tr>\n",
       "    <tr>\n",
       "      <th>9</th>\n",
       "      <td>Uniid_2450</td>\n",
       "      <td>University_2450</td>\n",
       "      <td>Company Secretary (CS)</td>\n",
       "      <td>Yes</td>\n",
       "      <td>No</td>\n",
       "      <td>No</td>\n",
       "      <td>No</td>\n",
       "      <td>No</td>\n",
       "      <td>205</td>\n",
       "    </tr>\n",
       "  </tbody>\n",
       "</table>\n",
       "</div>"
      ],
      "text/plain": [
       "     Uni_code         Uni_name                  Branch has_placement_cell  \\\n",
       "0   Uniid_284   University_284  Company Secretary (CS)                Yes   \n",
       "1  Uniid_7820  University_7820  Company Secretary (CS)                 No   \n",
       "2    Uniid_94    University_94  Company Secretary (CS)                 No   \n",
       "3  Uniid_9565  University_9565  Company Secretary (CS)                 No   \n",
       "4   Uniid_452   University_452  Company Secretary (CS)                 No   \n",
       "5  Uniid_5963  University_5963  Company Secretary (CS)                 No   \n",
       "6  Uniid_2370  University_2370  Company Secretary (CS)                Yes   \n",
       "7  Uniid_8566  University_8566  Company Secretary (CS)                Yes   \n",
       "8  Uniid_8823  University_8823  Company Secretary (CS)                Yes   \n",
       "9  Uniid_2450  University_2450  Company Secretary (CS)                Yes   \n",
       "\n",
       "  has_hostel has_IEEE has_sports_club has_NCC  last_year_cutoff  \n",
       "0        Yes      Yes              No     Yes               678  \n",
       "1        Yes       No              No      No               527  \n",
       "2        Yes      Yes              No     Yes               304  \n",
       "3        Yes       No              No     Yes                 8  \n",
       "4        Yes       No              No      No               630  \n",
       "5        Yes       No              No      No               435  \n",
       "6        Yes       No              No      No               393  \n",
       "7         No       No             Yes     Yes               410  \n",
       "8         No      Yes              No      No               234  \n",
       "9         No       No              No      No               205  "
      ]
     },
     "execution_count": 32,
     "metadata": {},
     "output_type": "execute_result"
    }
   ],
   "source": [
    "# cus_test = [want_branch, want_placement_cell, want_hostel, want_IEEE, want_sports_club, want_NCC, cut_off, your_score] # create a list to store the test data\n",
    "cus_test = [np.random.randint(0,19), np.random.randint(0,1), np.random.randint(0,1), np.random.randint(0,1), np.random.randint(0,1), np.random.randint(0,1), np.random.randint(0,1000), np.random.randint(0,1000)] # create a list to store the test data\n",
    "cus_pred = knn.predict([cus_test])  # predict the test data\n",
    "\n",
    "if cus_pred == 0: # if the prediction is 0\n",
    "    print(\"hurray!, your score is eligible, this are some universities of your interest.\") # print the message\n",
    "else: # else\n",
    "    print(\"Your score is not eligible, this are some Universities according to your score and interest.\") # print the message\n",
    "\n",
    "recom_uni = uni_df[(uni_df[\"last_year_cutoff\"] <= cus_test[6]) & (uni_df[\"Score\"] <= cus_test[7]) & (uni_df[\"last_year_cutoff\"] <= uni_df[\"Score\"])] # get the dataframe that satisfies the condition\n",
    "recom_uni_v1 = recom_uni[(recom_uni[\"has_placement_cell\"] == cus_test[1]) | (recom_uni[\"has_hostel\"] == cus_test[2]) | (recom_uni[\"has_IEEE\"]==cus_test[3]) | (recom_uni[\"has_sports_club\"]==cus_test[4]) | (recom_uni[\"has_NCC\"]==cus_test[5])] # get the dataframe that satisfies the condition and append the dataframe to the list recom_uni\n",
    "recom_uni_v2 = recom_uni_v1[(recom_uni_v1[\"Branch\"]==cus_test[0])] # get the dataframe that satisfies the condition\n",
    "#try:\n",
    "df = recom_uni_v2.sample(10).replace(0, \"Yes\").replace(1, \"No\").drop([\"Score\", \"selection\"], axis=1) # create a dataframe to store the final data\n",
    "final_df = df.reset_index() # reset the index\n",
    "recommended_uni = final_df.drop([\"index\"], axis=1) # drop the index\n",
    "recommended_uni[\"Branch\"] = recommended_uni[\"Branch\"].replace(\"Yes\", 0).replace(\"No\", 1) # replace the branch with 0 and 1\n",
    "recommended_uni[\"Branch\"] = recommended_uni[\"Branch\"].replace([0,1,2,3,4,5,6,7,8,9,10,11,12,13,14,15,16,17,18,19],[\"Computer science engineering\", \"Mechanical engineering\", \"Electronic\", \"communication engineering\", \"Electrical engineering\", \"Civil engineering\", \"BCom\", \"BCA (IT and Software)\", \"BBA LLB\", \"Chartered Accountancy (CA)\", \"BBA/BMS\", \"Company Secretary (CS)\", \"BA in Humanities & Social Sciences\", \"BA in Arts (Fine/ Visual/ Performing)\", \"Bachelor of Fine Arts (BFA)\", \"BDes in Animation\", \"BA LLB\", \"BDes in Design\", \"BSc in Hospitality & Travel\", \"BSc in Design\"]) # sort the uni_code in descending order\n",
    "# recommended_uni.to_csv(\"recommended_universities.csv\") # print the rows of the dataframe\n",
    "recommended_uni # print the rows of the dataframe\n",
    "# except:\n",
    "#     print(\"sorry, no universities found\") # print the message\n"
   ]
  }
 ],
 "metadata": {
  "kernelspec": {
   "display_name": "Python 3.9.12 ('base')",
   "language": "python",
   "name": "python3"
  },
  "language_info": {
   "codemirror_mode": {
    "name": "ipython",
    "version": 3
   },
   "file_extension": ".py",
   "mimetype": "text/x-python",
   "name": "python",
   "nbconvert_exporter": "python",
   "pygments_lexer": "ipython3",
   "version": "3.9.12"
  },
  "vscode": {
   "interpreter": {
    "hash": "d9c5ec1b1844333f8b1ac69aa85f51898627d5791d69cd6f1d5c0f4347c6a503"
   }
  }
 },
 "nbformat": 4,
 "nbformat_minor": 2
}
