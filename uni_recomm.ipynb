{
 "cells": [
  {
   "cell_type": "markdown",
   "metadata": {},
   "source": [
    "# University Recommendation System\n",
    "<p style=\"font-size: small\">By Divyesh Patel</p>"
   ]
  },
  {
   "cell_type": "markdown",
   "metadata": {},
   "source": [
    "### Importing Basic Data Analysis Libraries"
   ]
  },
  {
   "cell_type": "code",
   "execution_count": 1,
   "metadata": {},
   "outputs": [],
   "source": [
    "import pandas as pd\n",
    "import numpy as np\n",
    "import matplotlib.pyplot as plt\n",
    "import seaborn as sns"
   ]
  },
  {
   "cell_type": "markdown",
   "metadata": {},
   "source": [
    "## Data Frame Made by Pandas Itself\n",
    "# <p style=\"text-align:center; font-size: medium;\">Attribute Understanding</p>\n",
    "# <pre style=\"font-size:small\">\n",
    "    Uni_code = University code which is unique for all universities it is used to identify the university.\n",
    "    Uni_name = University name which is used to identify the university.\n",
    "    Branch = Branch of the university which is used to identify that which department is there in that University.\n",
    "    has_placement_cell = This is used to identify that if the university has a placement cell or not.\n",
    "    has_hostel = This is used to identify that if the university has a hostel or not.\n",
    "    has_IEEE = This is used to identify that if the university has a IEEE or not.\n",
    "    has_sports_club = This is used to identify that if the university has a sports club or not.\n",
    "    has_NCC = This is used to identify that if the university has a NCC or not.\n",
    "    last_year_cutoff = It shows that what was the cutoff of the university last year.\n",
    "    Score = It shows student score by which the admission is decided.\n",
    "    selection = It shows the selection of the student.\n",
    "    \n"
   ]
  },
  {
   "cell_type": "code",
   "execution_count": 2,
   "metadata": {},
   "outputs": [
    {
     "data": {
      "text/html": [
       "<div>\n",
       "<style scoped>\n",
       "    .dataframe tbody tr th:only-of-type {\n",
       "        vertical-align: middle;\n",
       "    }\n",
       "\n",
       "    .dataframe tbody tr th {\n",
       "        vertical-align: top;\n",
       "    }\n",
       "\n",
       "    .dataframe thead th {\n",
       "        text-align: right;\n",
       "    }\n",
       "</style>\n",
       "<table border=\"1\" class=\"dataframe\">\n",
       "  <thead>\n",
       "    <tr style=\"text-align: right;\">\n",
       "      <th></th>\n",
       "      <th>Uni_code</th>\n",
       "      <th>Uni_name</th>\n",
       "      <th>Branch</th>\n",
       "      <th>has_placement_cell</th>\n",
       "      <th>has_hostel</th>\n",
       "      <th>has_IEEE</th>\n",
       "      <th>has_sports_club</th>\n",
       "      <th>has_NCC</th>\n",
       "      <th>last_year_cutoff</th>\n",
       "      <th>Score</th>\n",
       "      <th>selection</th>\n",
       "    </tr>\n",
       "  </thead>\n",
       "  <tbody>\n",
       "    <tr>\n",
       "      <th>0</th>\n",
       "      <td>Uniid_1</td>\n",
       "      <td>University_1</td>\n",
       "      <td>communication engineering</td>\n",
       "      <td>True</td>\n",
       "      <td>False</td>\n",
       "      <td>False</td>\n",
       "      <td>False</td>\n",
       "      <td>False</td>\n",
       "      <td>35</td>\n",
       "      <td>949</td>\n",
       "      <td>Accepted</td>\n",
       "    </tr>\n",
       "    <tr>\n",
       "      <th>1</th>\n",
       "      <td>Uniid_2</td>\n",
       "      <td>University_2</td>\n",
       "      <td>Electrical engineering</td>\n",
       "      <td>True</td>\n",
       "      <td>False</td>\n",
       "      <td>False</td>\n",
       "      <td>True</td>\n",
       "      <td>False</td>\n",
       "      <td>108</td>\n",
       "      <td>974</td>\n",
       "      <td>Accepted</td>\n",
       "    </tr>\n",
       "    <tr>\n",
       "      <th>2</th>\n",
       "      <td>Uniid_3</td>\n",
       "      <td>University_3</td>\n",
       "      <td>BBA/BMS</td>\n",
       "      <td>True</td>\n",
       "      <td>False</td>\n",
       "      <td>True</td>\n",
       "      <td>False</td>\n",
       "      <td>True</td>\n",
       "      <td>886</td>\n",
       "      <td>836</td>\n",
       "      <td>Rejected</td>\n",
       "    </tr>\n",
       "    <tr>\n",
       "      <th>3</th>\n",
       "      <td>Uniid_4</td>\n",
       "      <td>University_4</td>\n",
       "      <td>BCom</td>\n",
       "      <td>False</td>\n",
       "      <td>True</td>\n",
       "      <td>False</td>\n",
       "      <td>True</td>\n",
       "      <td>True</td>\n",
       "      <td>660</td>\n",
       "      <td>674</td>\n",
       "      <td>Accepted</td>\n",
       "    </tr>\n",
       "    <tr>\n",
       "      <th>4</th>\n",
       "      <td>Uniid_5</td>\n",
       "      <td>University_5</td>\n",
       "      <td>BA LLB</td>\n",
       "      <td>True</td>\n",
       "      <td>False</td>\n",
       "      <td>True</td>\n",
       "      <td>True</td>\n",
       "      <td>False</td>\n",
       "      <td>383</td>\n",
       "      <td>293</td>\n",
       "      <td>Rejected</td>\n",
       "    </tr>\n",
       "    <tr>\n",
       "      <th>...</th>\n",
       "      <td>...</td>\n",
       "      <td>...</td>\n",
       "      <td>...</td>\n",
       "      <td>...</td>\n",
       "      <td>...</td>\n",
       "      <td>...</td>\n",
       "      <td>...</td>\n",
       "      <td>...</td>\n",
       "      <td>...</td>\n",
       "      <td>...</td>\n",
       "      <td>...</td>\n",
       "    </tr>\n",
       "    <tr>\n",
       "      <th>9995</th>\n",
       "      <td>Uniid_9996</td>\n",
       "      <td>University_9996</td>\n",
       "      <td>communication engineering</td>\n",
       "      <td>True</td>\n",
       "      <td>True</td>\n",
       "      <td>True</td>\n",
       "      <td>False</td>\n",
       "      <td>False</td>\n",
       "      <td>497</td>\n",
       "      <td>953</td>\n",
       "      <td>Accepted</td>\n",
       "    </tr>\n",
       "    <tr>\n",
       "      <th>9996</th>\n",
       "      <td>Uniid_9997</td>\n",
       "      <td>University_9997</td>\n",
       "      <td>BA LLB</td>\n",
       "      <td>False</td>\n",
       "      <td>True</td>\n",
       "      <td>True</td>\n",
       "      <td>False</td>\n",
       "      <td>False</td>\n",
       "      <td>374</td>\n",
       "      <td>960</td>\n",
       "      <td>Accepted</td>\n",
       "    </tr>\n",
       "    <tr>\n",
       "      <th>9997</th>\n",
       "      <td>Uniid_9998</td>\n",
       "      <td>University_9998</td>\n",
       "      <td>Computer science engineering</td>\n",
       "      <td>True</td>\n",
       "      <td>False</td>\n",
       "      <td>False</td>\n",
       "      <td>True</td>\n",
       "      <td>True</td>\n",
       "      <td>770</td>\n",
       "      <td>12</td>\n",
       "      <td>Rejected</td>\n",
       "    </tr>\n",
       "    <tr>\n",
       "      <th>9998</th>\n",
       "      <td>Uniid_9999</td>\n",
       "      <td>University_9999</td>\n",
       "      <td>BA in Humanities &amp; Social Sciences</td>\n",
       "      <td>True</td>\n",
       "      <td>True</td>\n",
       "      <td>True</td>\n",
       "      <td>True</td>\n",
       "      <td>True</td>\n",
       "      <td>286</td>\n",
       "      <td>977</td>\n",
       "      <td>Accepted</td>\n",
       "    </tr>\n",
       "    <tr>\n",
       "      <th>9999</th>\n",
       "      <td>Uniid_10000</td>\n",
       "      <td>University_10000</td>\n",
       "      <td>Company Secretary (CS)</td>\n",
       "      <td>True</td>\n",
       "      <td>True</td>\n",
       "      <td>True</td>\n",
       "      <td>True</td>\n",
       "      <td>False</td>\n",
       "      <td>544</td>\n",
       "      <td>459</td>\n",
       "      <td>Rejected</td>\n",
       "    </tr>\n",
       "  </tbody>\n",
       "</table>\n",
       "<p>10000 rows × 11 columns</p>\n",
       "</div>"
      ],
      "text/plain": [
       "         Uni_code          Uni_name                              Branch  \\\n",
       "0         Uniid_1      University_1           communication engineering   \n",
       "1         Uniid_2      University_2              Electrical engineering   \n",
       "2         Uniid_3      University_3                             BBA/BMS   \n",
       "3         Uniid_4      University_4                                BCom   \n",
       "4         Uniid_5      University_5                              BA LLB   \n",
       "...           ...               ...                                 ...   \n",
       "9995   Uniid_9996   University_9996           communication engineering   \n",
       "9996   Uniid_9997   University_9997                              BA LLB   \n",
       "9997   Uniid_9998   University_9998        Computer science engineering   \n",
       "9998   Uniid_9999   University_9999  BA in Humanities & Social Sciences   \n",
       "9999  Uniid_10000  University_10000              Company Secretary (CS)   \n",
       "\n",
       "      has_placement_cell  has_hostel  has_IEEE  has_sports_club  has_NCC  \\\n",
       "0                   True       False     False            False    False   \n",
       "1                   True       False     False             True    False   \n",
       "2                   True       False      True            False     True   \n",
       "3                  False        True     False             True     True   \n",
       "4                   True       False      True             True    False   \n",
       "...                  ...         ...       ...              ...      ...   \n",
       "9995                True        True      True            False    False   \n",
       "9996               False        True      True            False    False   \n",
       "9997                True       False     False             True     True   \n",
       "9998                True        True      True             True     True   \n",
       "9999                True        True      True             True    False   \n",
       "\n",
       "      last_year_cutoff  Score selection  \n",
       "0                   35    949  Accepted  \n",
       "1                  108    974  Accepted  \n",
       "2                  886    836  Rejected  \n",
       "3                  660    674  Accepted  \n",
       "4                  383    293  Rejected  \n",
       "...                ...    ...       ...  \n",
       "9995               497    953  Accepted  \n",
       "9996               374    960  Accepted  \n",
       "9997               770     12  Rejected  \n",
       "9998               286    977  Accepted  \n",
       "9999               544    459  Rejected  \n",
       "\n",
       "[10000 rows x 11 columns]"
      ]
     },
     "execution_count": 2,
     "metadata": {},
     "output_type": "execute_result"
    }
   ],
   "source": [
    "def data(row): # function to get the data from the row\n",
    "    uni_recomm = {\n",
    "        \"Uni_code\": [f\"Uniid_{i+1}\" for i in range(row)], # create a list of uni_code\n",
    "        \"Uni_name\": [f\"University_{i+1}\" for i in range(row)], # create a list of uni_name\n",
    "        \"Branch\": [np.random.choice([\"Computer science engineering\", \"Mechanical engineering\", \"Electronic\", \"communication engineering\", \"Electrical engineering\", \"Civil engineering\", \"BCom\", \"BCA (IT and Software)\", \"BBA LLB\", \"Chartered Accountancy (CA)\", \"BBA/BMS\", \"Company Secretary (CS)\", \"BA in Humanities & Social Sciences\", \"BA in Arts (Fine/ Visual/ Performing)\", \"Bachelor of Fine Arts (BFA)\", \"BDes in Animation\", \"BA LLB\", \"BDes in Design\", \"BSc in Hospitality & Travel\", \"BSc in Design\"]) for i in range(row)], # create a list of branch\n",
    "        \"has_placement_cell\": [np.random.choice([True,False]) for i in range(row)], # create a list of has_placement_cell\n",
    "        \"has_hostel\": [np.random.choice([True,False]) for i in range(row)], # create a list of has_hostel\n",
    "        \"has_IEEE\": [np.random.choice([True,False]) for i in range(row)], # create a list of has_IEEE\n",
    "        \"has_sports_club\": [np.random.choice([True,False]) for i in range(row)], # create a list of has_sports_club\n",
    "        \"has_NCC\": [np.random.choice([True,False]) for i in range(row)], # create a list of has_NCC\n",
    "        \"last_year_cutoff\": [np.random.randint(0, 1000) for i in range(row)], # create a list of last_year_cutoff\n",
    "        \"Score\": [np.random.randint(0, 1000) for i in range(row)], # create a list of Score\n",
    "        \"selection\": [] # create a list of selection\n",
    "    } # dictionary to store the data\n",
    "    for i in range(row): # for loop to get the selection\n",
    "        if uni_recomm[\"Score\"][i] >= uni_recomm[\"last_year_cutoff\"][i]: # if the score is greater than the last_year_cutoff\n",
    "            uni_recomm[\"selection\"].append(\"Accepted\") # append the selection as Accepted\n",
    "        else: # else\n",
    "            uni_recomm[\"selection\"].append(\"Rejected\") # append the selection as Rejected\n",
    "    uni_recomm_df = pd.DataFrame(uni_recomm) # create a dataframe from the dictionary\n",
    "    # uni_recomm_df.to_csv(\"uni_recomm.csv\", index=False) # save the dataframe as csv\n",
    "    return uni_recomm_df # return the dataframe\n",
    "\n",
    "uni_data = data(10000) # call the data function to get the dataframe\n",
    "# uni_df = pd.read_csv(\"uni_recomm.csv\") # read the csv file\n",
    "uni_df = uni_data # assign the dataframe to the uni_df\n",
    "uni_data # print the dataframe\n"
   ]
  },
  {
   "cell_type": "markdown",
   "metadata": {},
   "source": [
    "## Basic Analysis"
   ]
  },
  {
   "cell_type": "code",
   "execution_count": 3,
   "metadata": {},
   "outputs": [
    {
     "data": {
      "text/plain": [
       "Index(['Uni_code', 'Uni_name', 'Branch', 'has_placement_cell', 'has_hostel',\n",
       "       'has_IEEE', 'has_sports_club', 'has_NCC', 'last_year_cutoff', 'Score',\n",
       "       'selection'],\n",
       "      dtype='object')"
      ]
     },
     "execution_count": 3,
     "metadata": {},
     "output_type": "execute_result"
    }
   ],
   "source": [
    "uni_df.columns # get the columns"
   ]
  },
  {
   "cell_type": "code",
   "execution_count": 4,
   "metadata": {},
   "outputs": [
    {
     "name": "stdout",
     "output_type": "stream",
     "text": [
      "<class 'pandas.core.frame.DataFrame'>\n",
      "RangeIndex: 10000 entries, 0 to 9999\n",
      "Data columns (total 11 columns):\n",
      " #   Column              Non-Null Count  Dtype \n",
      "---  ------              --------------  ----- \n",
      " 0   Uni_code            10000 non-null  object\n",
      " 1   Uni_name            10000 non-null  object\n",
      " 2   Branch              10000 non-null  object\n",
      " 3   has_placement_cell  10000 non-null  bool  \n",
      " 4   has_hostel          10000 non-null  bool  \n",
      " 5   has_IEEE            10000 non-null  bool  \n",
      " 6   has_sports_club     10000 non-null  bool  \n",
      " 7   has_NCC             10000 non-null  bool  \n",
      " 8   last_year_cutoff    10000 non-null  int64 \n",
      " 9   Score               10000 non-null  int64 \n",
      " 10  selection           10000 non-null  object\n",
      "dtypes: bool(5), int64(2), object(4)\n",
      "memory usage: 517.7+ KB\n"
     ]
    }
   ],
   "source": [
    "uni_df.info() # get the info of the dataframe"
   ]
  },
  {
   "cell_type": "markdown",
   "metadata": {},
   "source": [
    "the average of university's last year cutoff"
   ]
  },
  {
   "cell_type": "code",
   "execution_count": 5,
   "metadata": {
    "scrolled": true
   },
   "outputs": [
    {
     "data": {
      "text/plain": [
       "BCA (IT and Software)                    530\n",
       "BCom                                     520\n",
       "BA LLB                                   520\n",
       "Chartered Accountancy (CA)               516\n",
       "BDes in Animation                        513\n",
       "Company Secretary (CS)                   512\n",
       "Bachelor of Fine Arts (BFA)              509\n",
       "Mechanical engineering                   509\n",
       "Electronic                               503\n",
       "Computer science engineering             500\n",
       "BA in Arts (Fine/ Visual/ Performing)    498\n",
       "Electrical engineering                   496\n",
       "BSc in Hospitality & Travel              496\n",
       "Civil engineering                        495\n",
       "BBA/BMS                                  493\n",
       "BSc in Design                            492\n",
       "communication engineering                489\n",
       "BBA LLB                                  480\n",
       "BA in Humanities & Social Sciences       480\n",
       "BDes in Design                           449\n",
       "Name: Branch, dtype: int64"
      ]
     },
     "execution_count": 5,
     "metadata": {},
     "output_type": "execute_result"
    }
   ],
   "source": [
    "uni_df.Branch.value_counts() # get the count of the branch"
   ]
  },
  {
   "cell_type": "code",
   "execution_count": 6,
   "metadata": {},
   "outputs": [
    {
     "data": {
      "text/html": [
       "<div>\n",
       "<style scoped>\n",
       "    .dataframe tbody tr th:only-of-type {\n",
       "        vertical-align: middle;\n",
       "    }\n",
       "\n",
       "    .dataframe tbody tr th {\n",
       "        vertical-align: top;\n",
       "    }\n",
       "\n",
       "    .dataframe thead th {\n",
       "        text-align: right;\n",
       "    }\n",
       "</style>\n",
       "<table border=\"1\" class=\"dataframe\">\n",
       "  <thead>\n",
       "    <tr style=\"text-align: right;\">\n",
       "      <th></th>\n",
       "      <th>last_year_cutoff</th>\n",
       "      <th>Score</th>\n",
       "    </tr>\n",
       "  </thead>\n",
       "  <tbody>\n",
       "    <tr>\n",
       "      <th>count</th>\n",
       "      <td>10000.000000</td>\n",
       "      <td>10000.000000</td>\n",
       "    </tr>\n",
       "    <tr>\n",
       "      <th>mean</th>\n",
       "      <td>496.010800</td>\n",
       "      <td>497.488700</td>\n",
       "    </tr>\n",
       "    <tr>\n",
       "      <th>std</th>\n",
       "      <td>289.803714</td>\n",
       "      <td>290.273856</td>\n",
       "    </tr>\n",
       "    <tr>\n",
       "      <th>min</th>\n",
       "      <td>0.000000</td>\n",
       "      <td>0.000000</td>\n",
       "    </tr>\n",
       "    <tr>\n",
       "      <th>25%</th>\n",
       "      <td>243.000000</td>\n",
       "      <td>244.000000</td>\n",
       "    </tr>\n",
       "    <tr>\n",
       "      <th>50%</th>\n",
       "      <td>490.000000</td>\n",
       "      <td>495.000000</td>\n",
       "    </tr>\n",
       "    <tr>\n",
       "      <th>75%</th>\n",
       "      <td>748.000000</td>\n",
       "      <td>752.000000</td>\n",
       "    </tr>\n",
       "    <tr>\n",
       "      <th>max</th>\n",
       "      <td>999.000000</td>\n",
       "      <td>999.000000</td>\n",
       "    </tr>\n",
       "  </tbody>\n",
       "</table>\n",
       "</div>"
      ],
      "text/plain": [
       "       last_year_cutoff         Score\n",
       "count      10000.000000  10000.000000\n",
       "mean         496.010800    497.488700\n",
       "std          289.803714    290.273856\n",
       "min            0.000000      0.000000\n",
       "25%          243.000000    244.000000\n",
       "50%          490.000000    495.000000\n",
       "75%          748.000000    752.000000\n",
       "max          999.000000    999.000000"
      ]
     },
     "execution_count": 6,
     "metadata": {},
     "output_type": "execute_result"
    }
   ],
   "source": [
    "uni_df.describe() # get the description of the dataframe"
   ]
  },
  {
   "cell_type": "code",
   "execution_count": 7,
   "metadata": {},
   "outputs": [
    {
     "data": {
      "text/plain": [
       "<AxesSubplot:xlabel='Branch', ylabel='count'>"
      ]
     },
     "execution_count": 7,
     "metadata": {},
     "output_type": "execute_result"
    },
    {
     "data": {
      "image/png": "[encoded data removed]",
      "text/plain": [
       "<Figure size 5760x1440 with 1 Axes>"
      ]
     },
     "metadata": {
      "needs_background": "light"
     },
     "output_type": "display_data"
    }
   ],
   "source": [
    "# barplot of the branch\n",
    "plt.figure(figsize=(80,20))\n",
    "sns.countplot(x=\"Branch\", data=uni_df,order=uni_df.Branch.value_counts().index)"
   ]
  },
  {
   "cell_type": "code",
   "execution_count": 8,
   "metadata": {},
   "outputs": [
    {
     "data": {
      "text/plain": [
       "Text(1, 506.0108, 'Average last_year_cutoff: 496.0108')"
      ]
     },
     "execution_count": 8,
     "metadata": {},
     "output_type": "execute_result"
    },
    {
     "data": {
      "image/png": "[encoded data removed]",
      "text/plain": [
       "<Figure size 2160x2160 with 1 Axes>"
      ]
     },
     "metadata": {
      "needs_background": "light"
     },
     "output_type": "display_data"
    }
   ],
   "source": [
    "avg_score = uni_df.Score.mean() # get the average score\n",
    "avg_last_year_cutoff = uni_df.last_year_cutoff.mean() # get the average last_year_cutoff\n",
    "plt.figure(figsize=(30,30))\n",
    "plt.title(\"Average score and last year cutoff\", fontsize=20, fontweight=\"bold\", color=\"Green\")\n",
    "plt.bar(\"Average score\", avg_score, color=\"red\") # plot the average score\n",
    "plt.bar(\"Average last_year_cutoff\", avg_last_year_cutoff, color=\"blue\") # plot the average last_year_cutoff\n",
    "plt.annotate(f\"Average score: {avg_score}\", xy=(0, avg_score), xytext=(0, avg_score+10), arrowprops=dict(facecolor='black', shrink=0.05)) # annotate the average score\n",
    "plt.annotate(f\"Average last_year_cutoff: {avg_last_year_cutoff}\", xy=(1, avg_last_year_cutoff), xytext=(1, avg_last_year_cutoff+10), arrowprops=dict(facecolor='black', shrink=0.05)) # annotate the average last_year_cutoff"
   ]
  },
  {
   "cell_type": "markdown",
   "metadata": {},
   "source": [
    "## Data Preprocessing, KNN model Training & Testing"
   ]
  },
  {
   "cell_type": "code",
   "execution_count": 9,
   "metadata": {},
   "outputs": [
    {
     "name": "stdout",
     "output_type": "stream",
     "text": [
      "Classification Report\n",
      "               precision    recall  f1-score   support\n",
      "\n",
      "           0       1.00      0.99      0.99      1274\n",
      "           1       0.99      1.00      0.99      1226\n",
      "\n",
      "    accuracy                           0.99      2500\n",
      "   macro avg       0.99      0.99      0.99      2500\n",
      "weighted avg       0.99      0.99      0.99      2500\n",
      "\n",
      "Accuracy to recommand an University is  99.48 %\n"
     ]
    },
    {
     "data": {
      "text/plain": [
       "Text(33.0, 0.5, 'Actual')"
      ]
     },
     "execution_count": 9,
     "metadata": {},
     "output_type": "execute_result"
    },
    {
     "data": {
      "image/png": "[encoded data removed]",
      "text/plain": [
       "<Figure size 432x288 with 1 Axes>"
      ]
     },
     "metadata": {
      "needs_background": "light"
     },
     "output_type": "display_data"
    }
   ],
   "source": [
    "#KNN\n",
    "\n",
    "#step 1: encode categorical variables\n",
    "from sklearn.preprocessing import LabelEncoder # import the label encoder\n",
    "le = LabelEncoder() # create a label encoder\n",
    "uni_df[\"Branch\"] = le.fit_transform(uni_df[\"Branch\"]) # fit and transform the branch\n",
    "uni_df[\"has_placement_cell\"] = le.fit_transform(uni_df[\"has_placement_cell\"]) # fit and transform the has_placement_cell\n",
    "uni_df[\"has_hostel\"] = le.fit_transform(uni_df[\"has_hostel\"]) # fit and transform the has_hostel\n",
    "uni_df[\"has_IEEE\"] = le.fit_transform(uni_df[\"has_IEEE\"]) # fit and transform the has_IEEE\n",
    "uni_df[\"has_sports_club\"] = le.fit_transform(uni_df[\"has_sports_club\"]) # fit and transform the has_sports_club\n",
    "uni_df[\"has_NCC\"] = le.fit_transform(uni_df[\"has_NCC\"]) # fit and transform the has_NCC\n",
    "uni_df[\"selection\"] = le.fit_transform(uni_df[\"selection\"]) # fit and transform the selection\n",
    "\n",
    "#step 2: create a dataframe with all the features\n",
    "uni_df_features = uni_df.drop([\"Uni_code\", \"Uni_name\", \"selection\"], axis=1) # drop the columns\n",
    "\n",
    "#step 3: create a dataframe with the target variable\n",
    "uni_df_target = uni_df[\"selection\"] # get the selection column\n",
    "\n",
    "#step 4: split the data into training and testing data\n",
    "from sklearn.model_selection import train_test_split # import the train_test_split function\n",
    "X_train, X_test, y_train, y_test = train_test_split(uni_df_features, uni_df_target, test_size=0.25) # split the data into training and testing data\n",
    "\n",
    "#step 5: train the model\n",
    "from sklearn.neighbors import KNeighborsClassifier # import the KNeighborsClassifier function\n",
    "knn = KNeighborsClassifier(n_neighbors=5) # create a knn model with n_neighbors=17\n",
    "knn.fit(X_train, y_train) # fit the model\n",
    "\n",
    "#step 6: predict the test data\n",
    "y_pred = knn.predict(X_test) # predict the test data\n",
    "\n",
    "#step 7: evaluate the model\n",
    "from sklearn.metrics import classification_report, confusion_matrix, accuracy_score # import the classification_report, confusion_matrix, accuracy_score functions\n",
    "\n",
    "# classification Report\n",
    "print(\"Classification Report\\n\",classification_report(y_test, y_pred)) # print the classification report\n",
    "\n",
    "# Accuracy Score\n",
    "print(\"Accuracy to recommand an University is \",accuracy_score(y_test, y_pred)*100,\"%\") # print the accuracy score\n",
    "\n",
    "# Confusion Matrix\n",
    "matrix = confusion_matrix(y_test, y_pred) # get the confusion matrix\n",
    "sns.heatmap(matrix, annot=True, cbar=False, fmt=\"d\") # plot the confusion matrix\n",
    "plt.title(\"Confusion Matrix\") # plot the title\n",
    "plt.xlabel(\"Predicted\") # plot the x-axis label\n",
    "plt.ylabel(\"Actual\") # plot the y-axis label"
   ]
  },
  {
   "cell_type": "markdown",
   "metadata": {},
   "source": [
    "## Elbow Method"
   ]
  },
  {
   "cell_type": "code",
   "execution_count": 10,
   "metadata": {},
   "outputs": [
    {
     "data": {
      "text/plain": [
       "<Figure size 2160x1440 with 0 Axes>"
      ]
     },
     "execution_count": 10,
     "metadata": {},
     "output_type": "execute_result"
    },
    {
     "data": {
      "image/png": "[encoded data removed]",
      "text/plain": [
       "<Figure size 432x288 with 1 Axes>"
      ]
     },
     "metadata": {
      "needs_background": "light"
     },
     "output_type": "display_data"
    },
    {
     "data": {
      "text/plain": [
       "<Figure size 2160x1440 with 0 Axes>"
      ]
     },
     "metadata": {},
     "output_type": "display_data"
    }
   ],
   "source": [
    "# importing libraries required for Elbow Method\n",
    "errorrate = [] # create a list to store the error rate\n",
    "for i in range(1,25,2): # for loop to get the error rate for different values of k\n",
    "    knn = KNeighborsClassifier(n_neighbors=i) # create a knn model with n_neighbors=i\n",
    "    knn.fit(X_train, y_train) # fit the model\n",
    "    pred_i = knn.predict(X_test) # predict the test data\n",
    "    errorrate.append(np.mean(pred_i != y_test)) # append the error rate to the list\n",
    "errorrate # print the error rate\n",
    "x = range(1,25,2) # create a list to store the values of k\n",
    "y = errorrate # create a list to store the error rate\n",
    "plt.plot(x, y) # plot the error rate vs k\n",
    "plt.figure(figsize=(30,20)) # create a figure with a size of 30x20\n"
   ]
  },
  {
   "cell_type": "markdown",
   "metadata": {},
   "source": [
    "## KNN for Plotting"
   ]
  },
  {
   "cell_type": "code",
   "execution_count": 11,
   "metadata": {},
   "outputs": [
    {
     "name": "stderr",
     "output_type": "stream",
     "text": [
      "/Users/divyeshpatel/opt/anaconda3/lib/python3.9/site-packages/sklearn/base.py:450: UserWarning: X does not have valid feature names, but KNeighborsClassifier was fitted with feature names\n",
      "  warnings.warn(\n"
     ]
    },
    {
     "data": {
      "text/plain": [
       "array([1, 1, 0, ..., 1, 1, 1])"
      ]
     },
     "execution_count": 11,
     "metadata": {},
     "output_type": "execute_result"
    },
    {
     "data": {
      "image/png": "[encoded data removed]",
      "text/plain": [
       "<Figure size 432x288 with 1 Axes>"
      ]
     },
     "metadata": {
      "needs_background": "light"
     },
     "output_type": "display_data"
    }
   ],
   "source": [
    "#step 1: create a dataframe with all the features\n",
    "uni_df_features_plot = uni_df.drop([\"Uni_code\", \"Uni_name\", \"selection\", \"Branch\", \"has_placement_cell\", \"has_hostel\", \"has_IEEE\", \"has_sports_club\", \"has_NCC\"], axis=1)\n",
    "\n",
    "#step 2: create a dataframe with the target variable\n",
    "uni_df_target_plot = uni_df[\"selection\"]\n",
    "\n",
    "#step 3: split the data into training and testing data\n",
    "from sklearn.model_selection import train_test_split\n",
    "X_train1, X_test1, y_train1, y_test1 = train_test_split(uni_df_features_plot, uni_df_target_plot, test_size=0.25)\n",
    "\n",
    "#step 4: train the model\n",
    "from sklearn.neighbors import KNeighborsClassifier\n",
    "knn1 = KNeighborsClassifier(n_neighbors=3)\n",
    "knn1.fit(X_train1, y_train1)\n",
    "\n",
    "#step 5: predict the test data\n",
    "y_pred = knn1.predict(X_test1)\n",
    "\n",
    "#KNN visualization\n",
    "from mlxtend.plotting import plot_decision_regions # import the plot_decision_regions function\n",
    "\n",
    "plot_decision_regions(np.array(uni_df_features_plot.sample(10)), np.array(uni_df_target_plot.sample(10)), clf=knn1, legend=2) # plot the decision regions\n",
    "plt.xlabel('X') # plot the x-axis label\n",
    "plt.ylabel('Y') # plot the y-axis label\n",
    "plt.title('KNN') # plot the title\n",
    "\n",
    "y_pred"
   ]
  },
  {
   "cell_type": "markdown",
   "metadata": {},
   "source": [
    "## Custom Input To check the Output"
   ]
  },
  {
   "cell_type": "markdown",
   "metadata": {},
   "source": [
    "*want_branch = from 0 to 19* <br>\n",
    "<pre>\n",
    "        0 = \"Computer science engineering\"\n",
    "        1 = \"Mechanical engineering\"\n",
    "        2 = \"Electronic\"\n",
    "        3 = \"communication engineering\"\n",
    "        4 = \"Electrical engineering\"\n",
    "        5 = \"Civil engineering\"\n",
    "        6 = \"BCom\"\n",
    "        7 = \"BCA (IT and Software)\"\n",
    "        8 = \"BBA LLB\"\n",
    "        9 = \"Chartered Accountancy (CA)\"\n",
    "        10 = \"BBA/BMS\"\n",
    "        11 = \"Company Secretary (CS)\"\n",
    "        12 = \"BA in Humanities & Social Sciences\"\n",
    "        13 = \"BA in Arts (Fine/ Visual/ Performing)\"\n",
    "        14 = \"Bachelor of Fine Arts (BFA)\"\n",
    "        15 = \"BDes in Animation\"\n",
    "        16 = \"BA LLB\"\n",
    "        17 = \"BDes in Design\"\n",
    "        18 = \"BSc in Hospitality & Travel\"\n",
    "        19 = \"BSc in Design\" \n",
    "</pre> \n",
    "*want_placement_cell = 0 or 1* <br>\n",
    "<pre>\n",
    "        0 = \"Yes\"\n",
    "        1 = \"No\"\n",
    "</pre> \n",
    "*want_hostel = 0 or 1* <br>\n",
    "<pre>\n",
    "        0 = \"Yes\"\n",
    "        1 = \"No\"\n",
    "</pre> \n",
    "*want_IEEE = 0 or 1* <br>\n",
    "<pre>\n",
    "        0 = \"Yes\"\n",
    "        1 = \"No\"\n",
    "</pre> \n",
    "*want_sports_club = 0 or 1* <br> \n",
    "<pre>\n",
    "        0 = \"Yes\"\n",
    "        1 = \"No\"\n",
    "</pre> \n",
    "*want_NCC = 0 or 1* <br>\n",
    "<pre>\n",
    "        0 = \"Yes\"\n",
    "        1 = \"No\"\n",
    "</pre> \n",
    "*your_score = enter your score* <br>"
   ]
  },
  {
   "cell_type": "code",
   "execution_count": 12,
   "metadata": {},
   "outputs": [],
   "source": [
    "# want_branch = int(input(\"Enter the branch you want to predict(0,19): \")) # get the branch from the user\n",
    "# want_placement_cell = int(input(\"Enter the placement cell you want to predict(0,1): \")) # get the placement cell from the user\n",
    "# want_hostel = int(input(\"Enter the hostel you want to predict(0,1): \")) # get the hostel from the user\n",
    "# want_IEEE = int(input(\"Enter the IEEE you want to predict(0,1): \")) # get the IEEE from the user\n",
    "# want_sports_club = int(input(\"Enter the sports club you want to predict(0,1): \")) # get the sports club from the user\n",
    "# want_NCC = int(input(\"Enter the NCC you want to predict(0,1): \")) # get the NCC from the user\n",
    "# cut_off =  np.random.randint(0,1000)\n",
    "# your_score = int(input(\"Enter your score(0,1000): \")) # get the score from the user"
   ]
  },
  {
   "cell_type": "code",
   "execution_count": 17,
   "metadata": {},
   "outputs": [
    {
     "name": "stdout",
     "output_type": "stream",
     "text": [
      "hurray!, your score is eligible, this are some universities of your interest.\n"
     ]
    },
    {
     "name": "stderr",
     "output_type": "stream",
     "text": [
      "/Users/divyeshpatel/opt/anaconda3/lib/python3.9/site-packages/sklearn/base.py:450: UserWarning: X does not have valid feature names, but KNeighborsClassifier was fitted with feature names\n",
      "  warnings.warn(\n"
     ]
    },
    {
     "data": {
      "text/html": [
       "<div>\n",
       "<style scoped>\n",
       "    .dataframe tbody tr th:only-of-type {\n",
       "        vertical-align: middle;\n",
       "    }\n",
       "\n",
       "    .dataframe tbody tr th {\n",
       "        vertical-align: top;\n",
       "    }\n",
       "\n",
       "    .dataframe thead th {\n",
       "        text-align: right;\n",
       "    }\n",
       "</style>\n",
       "<table border=\"1\" class=\"dataframe\">\n",
       "  <thead>\n",
       "    <tr style=\"text-align: right;\">\n",
       "      <th></th>\n",
       "      <th>Uni_code</th>\n",
       "      <th>Uni_name</th>\n",
       "      <th>Branch</th>\n",
       "      <th>has_placement_cell</th>\n",
       "      <th>has_hostel</th>\n",
       "      <th>has_IEEE</th>\n",
       "      <th>has_sports_club</th>\n",
       "      <th>has_NCC</th>\n",
       "      <th>last_year_cutoff</th>\n",
       "    </tr>\n",
       "  </thead>\n",
       "  <tbody>\n",
       "    <tr>\n",
       "      <th>0</th>\n",
       "      <td>Uniid_9922</td>\n",
       "      <td>University_9922</td>\n",
       "      <td>BDes in Animation</td>\n",
       "      <td>Yes</td>\n",
       "      <td>Yes</td>\n",
       "      <td>Yes</td>\n",
       "      <td>No</td>\n",
       "      <td>No</td>\n",
       "      <td>63</td>\n",
       "    </tr>\n",
       "    <tr>\n",
       "      <th>1</th>\n",
       "      <td>Uniid_6189</td>\n",
       "      <td>University_6189</td>\n",
       "      <td>BDes in Animation</td>\n",
       "      <td>Yes</td>\n",
       "      <td>Yes</td>\n",
       "      <td>Yes</td>\n",
       "      <td>No</td>\n",
       "      <td>No</td>\n",
       "      <td>57</td>\n",
       "    </tr>\n",
       "    <tr>\n",
       "      <th>2</th>\n",
       "      <td>Uniid_8226</td>\n",
       "      <td>University_8226</td>\n",
       "      <td>BDes in Animation</td>\n",
       "      <td>No</td>\n",
       "      <td>Yes</td>\n",
       "      <td>Yes</td>\n",
       "      <td>No</td>\n",
       "      <td>No</td>\n",
       "      <td>18</td>\n",
       "    </tr>\n",
       "    <tr>\n",
       "      <th>3</th>\n",
       "      <td>Uniid_4037</td>\n",
       "      <td>University_4037</td>\n",
       "      <td>BDes in Animation</td>\n",
       "      <td>No</td>\n",
       "      <td>Yes</td>\n",
       "      <td>Yes</td>\n",
       "      <td>No</td>\n",
       "      <td>No</td>\n",
       "      <td>41</td>\n",
       "    </tr>\n",
       "    <tr>\n",
       "      <th>4</th>\n",
       "      <td>Uniid_2681</td>\n",
       "      <td>University_2681</td>\n",
       "      <td>BDes in Animation</td>\n",
       "      <td>No</td>\n",
       "      <td>No</td>\n",
       "      <td>Yes</td>\n",
       "      <td>Yes</td>\n",
       "      <td>Yes</td>\n",
       "      <td>27</td>\n",
       "    </tr>\n",
       "    <tr>\n",
       "      <th>5</th>\n",
       "      <td>Uniid_1949</td>\n",
       "      <td>University_1949</td>\n",
       "      <td>BDes in Animation</td>\n",
       "      <td>Yes</td>\n",
       "      <td>Yes</td>\n",
       "      <td>No</td>\n",
       "      <td>Yes</td>\n",
       "      <td>Yes</td>\n",
       "      <td>49</td>\n",
       "    </tr>\n",
       "    <tr>\n",
       "      <th>6</th>\n",
       "      <td>Uniid_1431</td>\n",
       "      <td>University_1431</td>\n",
       "      <td>BDes in Animation</td>\n",
       "      <td>No</td>\n",
       "      <td>No</td>\n",
       "      <td>No</td>\n",
       "      <td>Yes</td>\n",
       "      <td>Yes</td>\n",
       "      <td>6</td>\n",
       "    </tr>\n",
       "    <tr>\n",
       "      <th>7</th>\n",
       "      <td>Uniid_8034</td>\n",
       "      <td>University_8034</td>\n",
       "      <td>BDes in Animation</td>\n",
       "      <td>No</td>\n",
       "      <td>No</td>\n",
       "      <td>Yes</td>\n",
       "      <td>No</td>\n",
       "      <td>No</td>\n",
       "      <td>27</td>\n",
       "    </tr>\n",
       "    <tr>\n",
       "      <th>8</th>\n",
       "      <td>Uniid_424</td>\n",
       "      <td>University_424</td>\n",
       "      <td>BDes in Animation</td>\n",
       "      <td>Yes</td>\n",
       "      <td>No</td>\n",
       "      <td>No</td>\n",
       "      <td>No</td>\n",
       "      <td>No</td>\n",
       "      <td>38</td>\n",
       "    </tr>\n",
       "    <tr>\n",
       "      <th>9</th>\n",
       "      <td>Uniid_2481</td>\n",
       "      <td>University_2481</td>\n",
       "      <td>BDes in Animation</td>\n",
       "      <td>No</td>\n",
       "      <td>Yes</td>\n",
       "      <td>No</td>\n",
       "      <td>No</td>\n",
       "      <td>Yes</td>\n",
       "      <td>39</td>\n",
       "    </tr>\n",
       "  </tbody>\n",
       "</table>\n",
       "</div>"
      ],
      "text/plain": [
       "     Uni_code         Uni_name             Branch has_placement_cell  \\\n",
       "0  Uniid_9922  University_9922  BDes in Animation                Yes   \n",
       "1  Uniid_6189  University_6189  BDes in Animation                Yes   \n",
       "2  Uniid_8226  University_8226  BDes in Animation                 No   \n",
       "3  Uniid_4037  University_4037  BDes in Animation                 No   \n",
       "4  Uniid_2681  University_2681  BDes in Animation                 No   \n",
       "5  Uniid_1949  University_1949  BDes in Animation                Yes   \n",
       "6  Uniid_1431  University_1431  BDes in Animation                 No   \n",
       "7  Uniid_8034  University_8034  BDes in Animation                 No   \n",
       "8   Uniid_424   University_424  BDes in Animation                Yes   \n",
       "9  Uniid_2481  University_2481  BDes in Animation                 No   \n",
       "\n",
       "  has_hostel has_IEEE has_sports_club has_NCC  last_year_cutoff  \n",
       "0        Yes      Yes              No      No                63  \n",
       "1        Yes      Yes              No      No                57  \n",
       "2        Yes      Yes              No      No                18  \n",
       "3        Yes      Yes              No      No                41  \n",
       "4         No      Yes             Yes     Yes                27  \n",
       "5        Yes       No             Yes     Yes                49  \n",
       "6         No       No             Yes     Yes                 6  \n",
       "7         No      Yes              No      No                27  \n",
       "8         No       No              No      No                38  \n",
       "9        Yes       No              No     Yes                39  "
      ]
     },
     "execution_count": 17,
     "metadata": {},
     "output_type": "execute_result"
    }
   ],
   "source": [
    "# cus_test = [want_branch, want_placement_cell, want_hostel, want_IEEE, want_sports_club, want_NCC, cut_off, your_score] # create a list to store the test data\n",
    "cus_test = [np.random.randint(0,19), np.random.randint(0,1), np.random.randint(0,1), np.random.randint(0,1), np.random.randint(0,1), np.random.randint(0,1), np.random.randint(0,1000), np.random.randint(0,1000)] # create a list to store the test data\n",
    "cus_pred = knn.predict([cus_test])  # predict the test data\n",
    "\n",
    "if cus_pred == 0: # if the prediction is 0\n",
    "    print(\"hurray!, your score is eligible, this are some universities of your interest.\") # print the message\n",
    "else: # else\n",
    "    print(\"Your score is not eligible, this are some Universities according to your score and interest.\") # print the message\n",
    "\n",
    "recom_uni = uni_df[(uni_df[\"last_year_cutoff\"] <= cus_test[6]) & (uni_df[\"Score\"] <= cus_test[7]) & (uni_df[\"last_year_cutoff\"] <= uni_df[\"Score\"])] # get the dataframe that satisfies the condition\n",
    "recom_uni_v1 = recom_uni[(recom_uni[\"has_placement_cell\"] == cus_test[1]) | (recom_uni[\"has_hostel\"] == cus_test[2]) | (recom_uni[\"has_IEEE\"]==cus_test[3]) | (recom_uni[\"has_sports_club\"]==cus_test[4]) | (recom_uni[\"has_NCC\"]==cus_test[5])] # get the dataframe that satisfies the condition and append the dataframe to the list recom_uni\n",
    "recom_uni_v2 = recom_uni_v1[(recom_uni_v1[\"Branch\"]==cus_test[0])] # get the dataframe that satisfies the condition\n",
    "\n",
    "def uni_recommendation(): # define the function\n",
    "    try:\n",
    "        df = recom_uni_v2.sample(10).replace(0, \"Yes\").replace(1, \"No\").drop([\"Score\", \"selection\"], axis=1) # create a dataframe to store the final data\n",
    "        final_df = df.reset_index() # reset the index\n",
    "        recommended_uni = final_df.drop([\"index\"], axis=1) # drop the index\n",
    "        recommended_uni[\"Branch\"] = recommended_uni[\"Branch\"].replace(\"Yes\", 0).replace(\"No\", 1) # replace the branch with 0 and 1\n",
    "        recommended_uni[\"Branch\"] = recommended_uni[\"Branch\"].replace([0,1,2,3,4,5,6,7,8,9,10,11,12,13,14,15,16,17,18,19],[\"Computer science engineering\", \"Mechanical engineering\", \"Electronic\", \"communication engineering\", \"Electrical engineering\", \"Civil engineering\", \"BCom\", \"BCA (IT and Software)\", \"BBA LLB\", \"Chartered Accountancy (CA)\", \"BBA/BMS\", \"Company Secretary (CS)\", \"BA in Humanities & Social Sciences\", \"BA in Arts (Fine/ Visual/ Performing)\", \"Bachelor of Fine Arts (BFA)\", \"BDes in Animation\", \"BA LLB\", \"BDes in Design\", \"BSc in Hospitality & Travel\", \"BSc in Design\"]) # sort the uni_code in descending order\n",
    "        # recommended_uni.to_csv(\"recommended_universities.csv\") # print the rows of the dataframe\n",
    "        return recommended_uni # print the rows of the dataframe\n",
    "    except:\n",
    "        print(\"sorry, no universities found\") # print the message\n",
    "# recommended_uni # print the rows of the dataframe\n",
    "uni_recommendation() # call the function"
   ]
  }
 ],
 "metadata": {
  "kernelspec": {
   "display_name": "Python 3.9.12 ('base')",
   "language": "python",
   "name": "python3"
  },
  "language_info": {
   "codemirror_mode": {
    "name": "ipython",
    "version": 3
   },
   "file_extension": ".py",
   "mimetype": "text/x-python",
   "name": "python",
   "nbconvert_exporter": "python",
   "pygments_lexer": "ipython3",
   "version": "3.9.12"
  },
  "vscode": {
   "interpreter": {
    "hash": "d9c5ec1b1844333f8b1ac69aa85f51898627d5791d69cd6f1d5c0f4347c6a503"
   }
  }
 },
 "nbformat": 4,
 "nbformat_minor": 2
}
